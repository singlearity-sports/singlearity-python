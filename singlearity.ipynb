{
 "cells": [
  {
   "cell_type": "markdown",
   "metadata": {},
   "source": [
    "# Table of Contents\n",
    "* [**Introduction**](#Introduction)\n",
    "    * [**Singlearity**](#Singlearity)\n",
    "    * [**Python API**](#Python-API)\n",
    "    * [**Preparation**](#Preparation)\n",
    "* [**Initialization**](#Initialization)\n",
    "* [**Singlearity Data Structures**](#Singlearity-Data-Structures)\n",
    "    * [**Player**](#Player)\n",
    "    * [**Team**](#Team)\n",
    "    * [**Venue**](#Venue)\n",
    "    * [**State**](#State)\n",
    "    * [**Atmosphere**](#Atmosphere)\n",
    "    * [**Matchup**](#Matchup)\n",
    "* [**Generating Predictions**](#Generating-Predictions)\n",
    "    * [**Batter vs. Pitcher**](#Batter-vs.-Pitcher)\n",
    "    * [**Advanced Batter vs. Pitcher Options**](#Advanced-Batter-vs.-Pitcher-Options)   \n",
    "        * [**Game Date**](#Game-Date)\n",
    "        * [**Viewing Features**](#Viewing-Features)\n",
    "    * [**Alternative Models**](#Alternative-Models)   \n",
    "        * [**ab_woba_no_state Model**](#ab_woba_no_state-Model)\n",
    "* [**Visualizations**](#Visualizations)       \n",
    "* [**Game Simulations Using Singlearity-Game**](#Game-Simulations-Using-Singlearity-Game)\n",
    "        \n",
    "   "
   ]
  },
  {
   "cell_type": "markdown",
   "metadata": {},
   "source": [
    "# Introduction"
   ]
  },
  {
   "cell_type": "markdown",
   "metadata": {},
   "source": [
    "This is a Jupyter Notebook that provides an explanation and tutorial on the [Singlearity](https://www.singlearity.com) baseball analytics service.  Please see [this tutorial](https://www.dataquest.io/blog/jupyter-notebook-tutorial/) for a good explanation about how to use Jupyter Notebooks."
   ]
  },
  {
   "cell_type": "markdown",
   "metadata": {},
   "source": [
    "## Singlearity"
   ]
  },
  {
   "cell_type": "markdown",
   "metadata": {},
   "source": [
    "Singlearity is a web-based service for baseball analytics.  It uses machine learning to make predictions based on a wide range of player and historical data.    These predictions can be used to make more effective pre-game and in-game strategy decisions and to provide for more accurate game simulations.\n",
    "\n",
    "This work was presented at the 2021 SABR Conference and the 2021 Sloan Sports Analytics Conference.   You can view the [technical paper](https://www.singlearity.com/static/assets/sloan-singlearity.pdf) or the [Powerpoint presentation](https://www.singlearity.com/static/assets/Singlearity-sabr.pptx).\n",
    "\n",
    "You can also view an earlier article about Singlearity that appeared on [Baseball Prospectus](https://www.baseballprospectus.com/news/article/59993/singlearity-using-a-neural-network-to-predict-the-outcome-of-plate-appearances/).\n"
   ]
  },
  {
   "cell_type": "markdown",
   "metadata": {},
   "source": [
    "## Python API"
   ]
  },
  {
   "cell_type": "markdown",
   "metadata": {},
   "source": [
    "The goal of this workbook is to demonstrate the usage of the Singlearity Python API.  While it is possible to access Singlearity using direct HTTP requests, using a client library handles the low-level communication, allowing you and easy way to write more readable and compact code.   \n",
    "\n",
    "There are two additional places to get help with the Python APIs:\n",
    "1. The [Singlearity examples](https://github.com/singlearity-sports/singlearity-python/tree/master/examples) directory contains an extensive list of examples.\n",
    "1. The automatically generated [Swagger documents](https://www.singlearity.com/docs) contain a comprehensive list of API arguments.\n",
    "\n",
    "If you are interested in accessing Singlearity through the <code>R</code> programming language, you can view our [main github page](https://github.com/singlearity-sports) to view our APIs in different programming languages."
   ]
  },
  {
   "cell_type": "markdown",
   "metadata": {},
   "source": [
    "## Preparation"
   ]
  },
  {
   "cell_type": "markdown",
   "metadata": {},
   "source": [
    "This has been tested on Python 3.7, but everything should work with other versions of Python 3+.   \n",
    "\n",
    "1. Install packages:\n",
    "\n",
    "<code>pip install singlearity pandas seaborn matplotlib</code>\n",
    "\n",
    "2. Obtain a free trial of the Singlearity API key by going to (www.singlearity.com) and clicking on the \"Contact\" link."
   ]
  },
  {
   "cell_type": "markdown",
   "metadata": {},
   "source": [
    "# Initialization"
   ]
  },
  {
   "cell_type": "markdown",
   "metadata": {},
   "source": [
    "To start things off, we need to set up our API key, import some types, and initialize our library."
   ]
  },
  {
   "cell_type": "code",
   "execution_count": 1,
   "metadata": {},
   "outputs": [
    {
     "name": "stdout",
     "output_type": "stream",
     "text": [
      "Hello from Singlearity!!!\n",
      "Hello from Singlearity.  Your key looks good!!!\n"
     ]
    }
   ],
   "source": [
    "import singlearity\n",
    "from singlearity import State, Player, Team, Venue, Atmosphere, Matchup, ApiException, LineupPos, Lineup, Game\n",
    "from singlearity.rest import ApiException\n",
    "import pandas as pd\n",
    "import os\n",
    "\n",
    "pd.set_option('display.max_rows', 500)\n",
    "pd.set_option('display.max_columns', 500)\n",
    "configuration = singlearity.Configuration()\n",
    "configuration.host = os.environ.get(\"SINGLEARITY_API_SERVER\", \"https://api.singlearity.com\")\n",
    "configuration.api_key['SINGLEARITY_API_KEY']='<YOUR_API_KEY>'\n",
    "\n",
    "# Enter a context with an instance of the API client\n",
    "with singlearity.ApiClient(configuration) as api_client:\n",
    "    # Create an instance of the API class\n",
    "    sing = singlearity.APIsApi(api_client)\n",
    "    \n",
    "    #validate that we can connect to the singelarity server\n",
    "    print(sing.hello())\n",
    "    \n",
    "    #validate that our key works\n",
    "    print(sing.hello_with_key())\n"
   ]
  },
  {
   "cell_type": "markdown",
   "metadata": {},
   "source": [
    "# Singlearity Data Structures"
   ]
  },
  {
   "cell_type": "markdown",
   "metadata": {},
   "source": [
    "## Player"
   ]
  },
  {
   "cell_type": "markdown",
   "metadata": {},
   "source": [
    "The Player object contains information about a single player.   It is created through a call to \n",
    "<code>get_players()</code>.  \n",
    "\n",
    "<code>get_players()</code> takes a wide range of arguments that can be used to get the players meeting particular criteria.  It returns a list of <code>Player</code> objects.  The Singlearity database contains all players who have appeared in a major league game in the last 10 years, and it is updated daily."
   ]
  },
  {
   "cell_type": "code",
   "execution_count": 2,
   "metadata": {},
   "outputs": [
    {
     "name": "stdout",
     "output_type": "stream",
     "text": [
      "There are a lot of players named Smith.  Here are the first 10.\n",
      "[{'active': True,\n",
      " 'bat_side': 'R',\n",
      " 'birth_country': 'USA',\n",
      " 'birth_date': '1990-04-12',\n",
      " 'current_age': 31,\n",
      " 'debut_date': '2013-05-11',\n",
      " 'full_name': 'Burch Smith',\n",
      " 'mlb_id': 572143,\n",
      " 'photo_url': 'https://securea.mlb.com/mlb/images/players/head_shot/572143.jpg',\n",
      " 'pitch_hand': 'R',\n",
      " 'position': 'P',\n",
      " 'team_abbrev': 'OAK',\n",
      " 'team_id': 133}, {'active': True,\n",
      " 'bat_side': 'R',\n",
      " 'birth_country': 'USA',\n",
      " 'birth_date': '1991-07-28',\n",
      " 'current_age': 29,\n",
      " 'debut_date': '2017-07-17',\n",
      " 'full_name': 'Caleb Smith',\n",
      " 'mlb_id': 592761,\n",
      " 'photo_url': 'https://securea.mlb.com/mlb/images/players/head_shot/592761.jpg',\n",
      " 'pitch_hand': 'L',\n",
      " 'position': 'P',\n",
      " 'team_abbrev': 'ARI',\n",
      " 'team_id': 109}, {'active': True,\n",
      " 'bat_side': 'L',\n",
      " 'birth_country': 'USA',\n",
      " 'birth_date': '1995-06-15',\n",
      " 'current_age': 25,\n",
      " 'debut_date': '2017-08-11',\n",
      " 'full_name': 'Dominic Smith',\n",
      " 'mlb_id': 642086,\n",
      " 'photo_url': 'https://securea.mlb.com/mlb/images/players/head_shot/642086.jpg',\n",
      " 'pitch_hand': 'L',\n",
      " 'position': 'LF',\n",
      " 'team_abbrev': 'NYM',\n",
      " 'team_id': 121}, {'active': True,\n",
      " 'bat_side': 'R',\n",
      " 'birth_country': 'USA',\n",
      " 'birth_date': '1984-03-22',\n",
      " 'current_age': 37,\n",
      " 'debut_date': '2007-04-01',\n",
      " 'full_name': 'Joe Smith',\n",
      " 'mlb_id': 501925,\n",
      " 'photo_url': 'https://securea.mlb.com/mlb/images/players/head_shot/501925.jpg',\n",
      " 'pitch_hand': 'R',\n",
      " 'position': 'P',\n",
      " 'team_abbrev': 'HOU',\n",
      " 'team_id': 117}, {'active': True,\n",
      " 'bat_side': 'L',\n",
      " 'birth_country': 'USA',\n",
      " 'birth_date': '1996-02-06',\n",
      " 'current_age': 25,\n",
      " 'debut_date': '2020-09-12',\n",
      " 'full_name': 'Pavin Smith',\n",
      " 'mlb_id': 656976,\n",
      " 'photo_url': 'https://securea.mlb.com/mlb/images/players/head_shot/656976.jpg',\n",
      " 'pitch_hand': 'L',\n",
      " 'position': '1B',\n",
      " 'team_abbrev': 'ARI',\n",
      " 'team_id': 109}, {'active': True,\n",
      " 'bat_side': 'R',\n",
      " 'birth_country': 'USA',\n",
      " 'birth_date': '1995-01-15',\n",
      " 'current_age': 26,\n",
      " 'debut_date': '2020-08-26',\n",
      " 'full_name': 'Riley Smith',\n",
      " 'mlb_id': 642092,\n",
      " 'photo_url': 'https://securea.mlb.com/mlb/images/players/head_shot/642092.jpg',\n",
      " 'pitch_hand': 'R',\n",
      " 'position': 'P',\n",
      " 'team_abbrev': 'ARI',\n",
      " 'team_id': 109}, {'active': True,\n",
      " 'bat_side': 'R',\n",
      " 'birth_country': 'USA',\n",
      " 'birth_date': '1989-07-10',\n",
      " 'current_age': 31,\n",
      " 'debut_date': '2012-05-23',\n",
      " 'full_name': 'Will Smith',\n",
      " 'mlb_id': 519293,\n",
      " 'photo_url': 'https://securea.mlb.com/mlb/images/players/head_shot/519293.jpg',\n",
      " 'pitch_hand': 'L',\n",
      " 'position': 'P',\n",
      " 'team_abbrev': 'ATL',\n",
      " 'team_id': 144}, {'active': True,\n",
      " 'bat_side': 'R',\n",
      " 'birth_country': 'USA',\n",
      " 'birth_date': '1995-03-28',\n",
      " 'current_age': 26,\n",
      " 'debut_date': '2019-05-28',\n",
      " 'full_name': 'Will Smith',\n",
      " 'mlb_id': 669257,\n",
      " 'photo_url': 'https://securea.mlb.com/mlb/images/players/head_shot/669257.jpg',\n",
      " 'pitch_hand': 'R',\n",
      " 'position': 'C',\n",
      " 'team_abbrev': 'LAD',\n",
      " 'team_id': 119}, {'active': True,\n",
      " 'bat_side': 'L',\n",
      " 'birth_country': 'USA',\n",
      " 'birth_date': '1992-10-26',\n",
      " 'current_age': 28,\n",
      " 'debut_date': '2017-05-18',\n",
      " 'full_name': 'Dwight Smith Jr.',\n",
      " 'mlb_id': 596105,\n",
      " 'photo_url': 'https://securea.mlb.com/mlb/images/players/head_shot/596105.jpg',\n",
      " 'pitch_hand': 'R',\n",
      " 'position': 'LF',\n",
      " 'team_abbrev': 'BAL',\n",
      " 'team_id': 110}, {'active': True,\n",
      " 'bat_side': 'R',\n",
      " 'birth_country': 'USA',\n",
      " 'birth_date': '1993-09-24',\n",
      " 'current_age': 27,\n",
      " 'debut_date': '2018-06-23',\n",
      " 'full_name': 'Drew Smith',\n",
      " 'mlb_id': 622098,\n",
      " 'photo_url': 'https://securea.mlb.com/mlb/images/players/head_shot/622098.jpg',\n",
      " 'pitch_hand': 'R',\n",
      " 'position': 'P',\n",
      " 'team_abbrev': 'NYM',\n",
      " 'team_id': 121}]\n"
     ]
    }
   ],
   "source": [
    "smith_players = sing.get_players(name='Smith')\n",
    "\n",
    "print(f\"There are a lot of players named Smith.  Here are the first 10.\")\n",
    "print(smith_players[0:min(len(smith_players), 10)])\n"
   ]
  },
  {
   "cell_type": "markdown",
   "metadata": {},
   "source": [
    "If multiple arguments are provided to <code>get_players()</code>, the function returns the players satisfying **all** the specified conditions.\n",
    "\n",
    "Let's get a list of players named Smith who meet additional criteria."
   ]
  },
  {
   "cell_type": "code",
   "execution_count": 3,
   "metadata": {},
   "outputs": [
    {
     "name": "stdout",
     "output_type": "stream",
     "text": [
      "[{'active': True,\n",
      " 'bat_side': 'R',\n",
      " 'birth_country': 'USA',\n",
      " 'birth_date': '1990-04-12',\n",
      " 'current_age': 31,\n",
      " 'debut_date': '2013-05-11',\n",
      " 'full_name': 'Burch Smith',\n",
      " 'mlb_id': 572143,\n",
      " 'photo_url': 'https://securea.mlb.com/mlb/images/players/head_shot/572143.jpg',\n",
      " 'pitch_hand': 'R',\n",
      " 'position': 'P',\n",
      " 'team_abbrev': 'OAK',\n",
      " 'team_id': 133}, {'active': True,\n",
      " 'bat_side': 'R',\n",
      " 'birth_country': 'USA',\n",
      " 'birth_date': '1991-07-28',\n",
      " 'current_age': 29,\n",
      " 'debut_date': '2017-07-17',\n",
      " 'full_name': 'Caleb Smith',\n",
      " 'mlb_id': 592761,\n",
      " 'photo_url': 'https://securea.mlb.com/mlb/images/players/head_shot/592761.jpg',\n",
      " 'pitch_hand': 'L',\n",
      " 'position': 'P',\n",
      " 'team_abbrev': 'ARI',\n",
      " 'team_id': 109}, {'active': True,\n",
      " 'bat_side': 'R',\n",
      " 'birth_country': 'USA',\n",
      " 'birth_date': '1984-03-22',\n",
      " 'current_age': 37,\n",
      " 'debut_date': '2007-04-01',\n",
      " 'full_name': 'Joe Smith',\n",
      " 'mlb_id': 501925,\n",
      " 'photo_url': 'https://securea.mlb.com/mlb/images/players/head_shot/501925.jpg',\n",
      " 'pitch_hand': 'R',\n",
      " 'position': 'P',\n",
      " 'team_abbrev': 'HOU',\n",
      " 'team_id': 117}, {'active': True,\n",
      " 'bat_side': 'R',\n",
      " 'birth_country': 'USA',\n",
      " 'birth_date': '1995-01-15',\n",
      " 'current_age': 26,\n",
      " 'debut_date': '2020-08-26',\n",
      " 'full_name': 'Riley Smith',\n",
      " 'mlb_id': 642092,\n",
      " 'photo_url': 'https://securea.mlb.com/mlb/images/players/head_shot/642092.jpg',\n",
      " 'pitch_hand': 'R',\n",
      " 'position': 'P',\n",
      " 'team_abbrev': 'ARI',\n",
      " 'team_id': 109}, {'active': True,\n",
      " 'bat_side': 'R',\n",
      " 'birth_country': 'USA',\n",
      " 'birth_date': '1989-07-10',\n",
      " 'current_age': 31,\n",
      " 'debut_date': '2012-05-23',\n",
      " 'full_name': 'Will Smith',\n",
      " 'mlb_id': 519293,\n",
      " 'photo_url': 'https://securea.mlb.com/mlb/images/players/head_shot/519293.jpg',\n",
      " 'pitch_hand': 'L',\n",
      " 'position': 'P',\n",
      " 'team_abbrev': 'ATL',\n",
      " 'team_id': 144}, {'active': True,\n",
      " 'bat_side': 'R',\n",
      " 'birth_country': 'USA',\n",
      " 'birth_date': '1995-03-28',\n",
      " 'current_age': 26,\n",
      " 'debut_date': '2019-05-28',\n",
      " 'full_name': 'Will Smith',\n",
      " 'mlb_id': 669257,\n",
      " 'photo_url': 'https://securea.mlb.com/mlb/images/players/head_shot/669257.jpg',\n",
      " 'pitch_hand': 'R',\n",
      " 'position': 'C',\n",
      " 'team_abbrev': 'LAD',\n",
      " 'team_id': 119}, {'active': True,\n",
      " 'bat_side': 'R',\n",
      " 'birth_country': 'USA',\n",
      " 'birth_date': '1993-09-24',\n",
      " 'current_age': 27,\n",
      " 'debut_date': '2018-06-23',\n",
      " 'full_name': 'Drew Smith',\n",
      " 'mlb_id': 622098,\n",
      " 'photo_url': 'https://securea.mlb.com/mlb/images/players/head_shot/622098.jpg',\n",
      " 'pitch_hand': 'R',\n",
      " 'position': 'P',\n",
      " 'team_abbrev': 'NYM',\n",
      " 'team_id': 121}]\n"
     ]
    }
   ],
   "source": [
    "print(sing.get_players(name='Smith', age_min=22, bat_side='R', on_40=True ))"
   ]
  },
  {
   "cell_type": "markdown",
   "metadata": {},
   "source": [
    "This example retrieves right-handed pitchers on a specific team."
   ]
  },
  {
   "cell_type": "code",
   "execution_count": 4,
   "metadata": {},
   "outputs": [
    {
     "name": "stdout",
     "output_type": "stream",
     "text": [
      "[{'active': True,\n",
      " 'bat_side': 'R',\n",
      " 'birth_country': 'Dominican Republic',\n",
      " 'birth_date': '1995-09-26',\n",
      " 'current_age': 25,\n",
      " 'debut_date': '2020-08-08',\n",
      " 'full_name': 'Albert Abreu',\n",
      " 'mlb_id': 656061,\n",
      " 'photo_url': 'https://securea.mlb.com/mlb/images/players/head_shot/656061.jpg',\n",
      " 'pitch_hand': 'R',\n",
      " 'position': 'P',\n",
      " 'team_abbrev': 'NYY',\n",
      " 'team_id': 147}, {'active': True,\n",
      " 'bat_side': 'R',\n",
      " 'birth_country': 'Mexico',\n",
      " 'birth_date': '1992-04-25',\n",
      " 'current_age': 29,\n",
      " 'debut_date': '2016-04-08',\n",
      " 'full_name': 'Luis Cessa',\n",
      " 'mlb_id': 570666,\n",
      " 'photo_url': 'https://securea.mlb.com/mlb/images/players/head_shot/570666.jpg',\n",
      " 'pitch_hand': 'R',\n",
      " 'position': 'P',\n",
      " 'team_abbrev': 'NYY',\n",
      " 'team_id': 147}, {'active': True,\n",
      " 'bat_side': 'R',\n",
      " 'birth_country': 'USA',\n",
      " 'birth_date': '1990-09-08',\n",
      " 'current_age': 30,\n",
      " 'debut_date': '2013-06-11',\n",
      " 'full_name': 'Gerrit Cole',\n",
      " 'mlb_id': 543037,\n",
      " 'photo_url': 'https://securea.mlb.com/mlb/images/players/head_shot/543037.jpg',\n",
      " 'pitch_hand': 'R',\n",
      " 'position': 'P',\n",
      " 'team_abbrev': 'NYY',\n",
      " 'team_id': 147}, {'active': True,\n",
      " 'bat_side': 'R',\n",
      " 'birth_country': 'Dominican Republic',\n",
      " 'birth_date': '1992-08-04',\n",
      " 'current_age': 28,\n",
      " 'debut_date': '2017-06-11',\n",
      " 'full_name': 'Domingo German',\n",
      " 'mlb_id': 593334,\n",
      " 'photo_url': 'https://securea.mlb.com/mlb/images/players/head_shot/593334.jpg',\n",
      " 'pitch_hand': 'R',\n",
      " 'position': 'P',\n",
      " 'team_abbrev': 'NYY',\n",
      " 'team_id': 147}, {'active': True,\n",
      " 'bat_side': 'L',\n",
      " 'birth_country': 'USA',\n",
      " 'birth_date': '1991-05-24',\n",
      " 'current_age': 29,\n",
      " 'debut_date': '2016-05-16',\n",
      " 'full_name': 'Chad Green',\n",
      " 'mlb_id': 643338,\n",
      " 'photo_url': 'https://securea.mlb.com/mlb/images/players/head_shot/643338.jpg',\n",
      " 'pitch_hand': 'R',\n",
      " 'position': 'P',\n",
      " 'team_abbrev': 'NYY',\n",
      " 'team_id': 147}, {'active': True,\n",
      " 'bat_side': 'R',\n",
      " 'birth_country': 'USA',\n",
      " 'birth_date': '1995-05-25',\n",
      " 'current_age': 25,\n",
      " 'debut_date': '2019-09-27',\n",
      " 'full_name': 'Michael King',\n",
      " 'mlb_id': 650633,\n",
      " 'photo_url': 'https://securea.mlb.com/mlb/images/players/head_shot/650633.jpg',\n",
      " 'pitch_hand': 'R',\n",
      " 'position': 'P',\n",
      " 'team_abbrev': 'NYY',\n",
      " 'team_id': 147}, {'active': True,\n",
      " 'bat_side': 'R',\n",
      " 'birth_country': 'USA',\n",
      " 'birth_date': '1986-04-10',\n",
      " 'current_age': 35,\n",
      " 'debut_date': '2011-09-01',\n",
      " 'full_name': 'Corey Kluber',\n",
      " 'mlb_id': 446372,\n",
      " 'photo_url': 'https://securea.mlb.com/mlb/images/players/head_shot/446372.jpg',\n",
      " 'pitch_hand': 'R',\n",
      " 'position': 'P',\n",
      " 'team_abbrev': 'NYY',\n",
      " 'team_id': 147}, {'active': True,\n",
      " 'bat_side': 'R',\n",
      " 'birth_country': 'USA',\n",
      " 'birth_date': '1994-02-03',\n",
      " 'current_age': 27,\n",
      " 'debut_date': '2020-07-29',\n",
      " 'full_name': 'Brooks Kriske',\n",
      " 'mlb_id': 621139,\n",
      " 'photo_url': 'https://securea.mlb.com/mlb/images/players/head_shot/621139.jpg',\n",
      " 'pitch_hand': 'R',\n",
      " 'position': 'P',\n",
      " 'team_abbrev': 'NYY',\n",
      " 'team_id': 147}, {'active': True,\n",
      " 'bat_side': 'R',\n",
      " 'birth_country': 'Nicaragua',\n",
      " 'birth_date': '1994-11-02',\n",
      " 'current_age': 26,\n",
      " 'debut_date': '2018-06-15',\n",
      " 'full_name': 'Jonathan Loaisiga',\n",
      " 'mlb_id': 642528,\n",
      " 'photo_url': 'https://securea.mlb.com/mlb/images/players/head_shot/642528.jpg',\n",
      " 'pitch_hand': 'R',\n",
      " 'position': 'P',\n",
      " 'team_abbrev': 'NYY',\n",
      " 'team_id': 147}, {'active': True,\n",
      " 'bat_side': 'R',\n",
      " 'birth_country': 'USA',\n",
      " 'birth_date': '1995-12-05',\n",
      " 'current_age': 25,\n",
      " 'debut_date': '2020-08-01',\n",
      " 'full_name': 'Nick Nelson',\n",
      " 'mlb_id': 656793,\n",
      " 'photo_url': 'https://securea.mlb.com/mlb/images/players/head_shot/656793.jpg',\n",
      " 'pitch_hand': 'R',\n",
      " 'position': 'P',\n",
      " 'team_abbrev': 'NYY',\n",
      " 'team_id': 147}, {'active': True,\n",
      " 'bat_side': 'R',\n",
      " 'birth_country': 'USA',\n",
      " 'birth_date': '1982-10-22',\n",
      " 'current_age': 38,\n",
      " 'debut_date': '2008-03-31',\n",
      " 'full_name': \"Darren O'Day\",\n",
      " 'mlb_id': 503285,\n",
      " 'photo_url': 'https://securea.mlb.com/mlb/images/players/head_shot/503285.jpg',\n",
      " 'pitch_hand': 'R',\n",
      " 'position': 'P',\n",
      " 'team_abbrev': 'NYY',\n",
      " 'team_id': 147}, {'active': True,\n",
      " 'bat_side': 'R',\n",
      " 'birth_country': 'USA',\n",
      " 'birth_date': '1991-11-18',\n",
      " 'current_age': 29,\n",
      " 'debut_date': '2016-06-08',\n",
      " 'full_name': 'Jameson Taillon',\n",
      " 'mlb_id': 592791,\n",
      " 'photo_url': 'https://securea.mlb.com/mlb/images/players/head_shot/592791.jpg',\n",
      " 'pitch_hand': 'R',\n",
      " 'position': 'P',\n",
      " 'team_abbrev': 'NYY',\n",
      " 'team_id': 147}, {'active': True,\n",
      " 'bat_side': 'R',\n",
      " 'birth_country': 'Dominican Republic',\n",
      " 'birth_date': '1999-05-19',\n",
      " 'current_age': 21,\n",
      " 'debut_date': '2020-08-30',\n",
      " 'full_name': 'Deivi Garcia',\n",
      " 'mlb_id': 665620,\n",
      " 'photo_url': 'https://securea.mlb.com/mlb/images/players/head_shot/665620.jpg',\n",
      " 'pitch_hand': 'R',\n",
      " 'position': 'P',\n",
      " 'team_abbrev': 'NYY',\n",
      " 'team_id': 147}, {'active': True,\n",
      " 'bat_side': 'R',\n",
      " 'birth_country': 'USA',\n",
      " 'birth_date': '1993-06-09',\n",
      " 'current_age': 27,\n",
      " 'debut_date': '2016-09-02',\n",
      " 'full_name': 'Jonathan Holder',\n",
      " 'mlb_id': 656547,\n",
      " 'photo_url': 'https://securea.mlb.com/mlb/images/players/head_shot/656547.jpg',\n",
      " 'pitch_hand': 'R',\n",
      " 'position': 'P',\n",
      " 'team_abbrev': 'NYY',\n",
      " 'team_id': 147}]\n"
     ]
    }
   ],
   "source": [
    "print(sing.get_players(team_name='Yankees', position='P', pitch_hand='R', on_40=True))"
   ]
  },
  {
   "cell_type": "markdown",
   "metadata": {},
   "source": [
    "The most reliable way to retrieve a player is to use his <code>mlb_id</code>.  This avoids conflicts with two players having the same name (e.g. Will Smith).  It also avoids issues around player names being slightly different in different databases (e.g. Matthew Boyd vs. Matt Boyd)\n",
    "\n",
    "Note that <code>get_players()</code> always returns a list so you need to extract the 1st player from the list using the <code>[]</code> notation."
   ]
  },
  {
   "cell_type": "code",
   "execution_count": 5,
   "metadata": {},
   "outputs": [
    {
     "name": "stdout",
     "output_type": "stream",
     "text": [
      "This is a pretty good player:\n",
      "{'active': True,\n",
      " 'bat_side': 'R',\n",
      " 'birth_country': 'USA',\n",
      " 'birth_date': '1991-08-07',\n",
      " 'current_age': 29,\n",
      " 'debut_date': '2011-07-08',\n",
      " 'full_name': 'Mike Trout',\n",
      " 'mlb_id': 545361,\n",
      " 'photo_url': 'https://securea.mlb.com/mlb/images/players/head_shot/545361.jpg',\n",
      " 'pitch_hand': 'R',\n",
      " 'position': 'CF',\n",
      " 'team_abbrev': 'LAA',\n",
      " 'team_id': 108}\n"
     ]
    }
   ],
   "source": [
    "print(f\"This is a pretty good player:\\n{sing.get_players(id=545361)[0]}\")"
   ]
  },
  {
   "cell_type": "markdown",
   "metadata": {},
   "source": [
    "## Team"
   ]
  },
  {
   "cell_type": "markdown",
   "metadata": {},
   "source": [
    "A Team object is retrieved through <code>get_teams()</code>.   "
   ]
  },
  {
   "cell_type": "code",
   "execution_count": 6,
   "metadata": {},
   "outputs": [
    {
     "name": "stdout",
     "output_type": "stream",
     "text": [
      "There are 30 in major league baseball\n",
      "There are 2 New York teams\n",
      "The Yankees team is:\n",
      "{'abbreviation': 'NYY',\n",
      " 'division': 'American League East',\n",
      " 'id': 147,\n",
      " 'league': 'American League',\n",
      " 'name': 'New York Yankees',\n",
      " 'team_name': 'Yankees',\n",
      " 'venue': {'home_team_abbrev': 'NYY',\n",
      "           'home_team_id': 147,\n",
      "           'id': 3313,\n",
      "           'name': 'Yankee Stadium'}}\n"
     ]
    }
   ],
   "source": [
    "all_teams = sing.get_teams()\n",
    "print(f\"There are {len(all_teams)} in major league baseball\")\n",
    "\n",
    "new_york_teams = sing.get_teams(name='New York')\n",
    "print(f\"There are {len(new_york_teams)} New York teams\")\n",
    "\n",
    "print(f\"The Yankees team is:\\n{sing.get_teams(name='Yankees')[0]}\")"
   ]
  },
  {
   "cell_type": "markdown",
   "metadata": {},
   "source": [
    "## Venue"
   ]
  },
  {
   "cell_type": "markdown",
   "metadata": {},
   "source": [
    "A Venue object is retrieved through a call to </code>get_venues()</code>.  You can retrieve the venue by passing in either the stadium name (partial names are ok) or the team name.\n"
   ]
  },
  {
   "cell_type": "code",
   "execution_count": 7,
   "metadata": {},
   "outputs": [
    {
     "name": "stdout",
     "output_type": "stream",
     "text": [
      "Yankee stadium is:\n",
      "{'home_team_abbrev': 'NYY',\n",
      " 'home_team_id': 147,\n",
      " 'id': 3313,\n",
      " 'name': 'Yankee Stadium'}\n",
      "The Dodger home field is:\n",
      "{'home_team_abbrev': 'LAD',\n",
      " 'home_team_id': 119,\n",
      " 'id': 22,\n",
      " 'name': 'Dodger Stadium'}\n"
     ]
    }
   ],
   "source": [
    "yankee_stadium = sing.get_venues(stadium_name='Yankee Stadium')[0]\n",
    "print(f\"Yankee stadium is:\\n{yankee_stadium}\")\n",
    "\n",
    "print(f\"The Dodger home field is:\\n{sing.get_venues(team_name='Dodgers')[0]}\")"
   ]
  },
  {
   "cell_type": "markdown",
   "metadata": {},
   "source": [
    "## State"
   ]
  },
  {
   "cell_type": "markdown",
   "metadata": {},
   "source": [
    "A State object allows you to create an object representing the state of the game. A default state object will contain the state at the beginning of a game.  Be careful about using default state arguments because matchups with fresh pitchers and no runners on base tend to favor the pitcher."
   ]
  },
  {
   "cell_type": "code",
   "execution_count": 8,
   "metadata": {
    "scrolled": true
   },
   "outputs": [
    {
     "name": "stdout",
     "output_type": "stream",
     "text": [
      "A State object with no arguments is:\n",
      "{'bat_lineup_order': 1,\n",
      " 'bat_score': 0,\n",
      " 'fld_lineup_order': 1,\n",
      " 'fld_score': 0,\n",
      " 'frame_runs_scored': 0,\n",
      " 'inning': 1,\n",
      " 'on_1b': False,\n",
      " 'on_2b': False,\n",
      " 'on_3b': False,\n",
      " 'outs': 0,\n",
      " 'pitch_number': 0,\n",
      " 'top': True}\n"
     ]
    }
   ],
   "source": [
    "state_beginning = State()\n",
    "print(f\"A State object with no arguments is:\\n{state_beginning}\")\n"
   ]
  },
  {
   "cell_type": "code",
   "execution_count": 9,
   "metadata": {},
   "outputs": [
    {
     "name": "stdout",
     "output_type": "stream",
     "text": [
      "{'bat_lineup_order': 1,\n",
      " 'bat_score': 3,\n",
      " 'fld_lineup_order': 1,\n",
      " 'fld_score': 3,\n",
      " 'frame_runs_scored': 0,\n",
      " 'inning': 5,\n",
      " 'on_1b': True,\n",
      " 'on_2b': True,\n",
      " 'on_3b': True,\n",
      " 'outs': 2,\n",
      " 'pitch_number': 85,\n",
      " 'top': False}\n"
     ]
    }
   ],
   "source": [
    "exciting_state = State(on_1b=True, on_2b=True, on_3b=True, \n",
    "                       inning=5, outs=2, top=False, bat_score=3, fld_score=3, \n",
    "                       pitch_number=85)\n",
    "print(exciting_state)"
   ]
  },
  {
   "cell_type": "markdown",
   "metadata": {},
   "source": [
    "## Atmosphere"
   ]
  },
  {
   "cell_type": "markdown",
   "metadata": {},
   "source": [
    "An atmosphere object stores information about the playing conditions, including the game location and the weather. "
   ]
  },
  {
   "cell_type": "code",
   "execution_count": 10,
   "metadata": {},
   "outputs": [
    {
     "name": "stdout",
     "output_type": "stream",
     "text": [
      "{'home_team': {'abbreviation': 'NYY',\n",
      "               'division': 'American League East',\n",
      "               'id': 147,\n",
      "               'league': 'American League',\n",
      "               'name': 'New York Yankees',\n",
      "               'team_name': 'Yankees',\n",
      "               'venue': {'home_team_abbrev': 'NYY',\n",
      "                         'home_team_id': 147,\n",
      "                         'id': 3313,\n",
      "                         'name': 'Yankee Stadium'}},\n",
      " 'temperature': 84,\n",
      " 'venue': {'home_team_abbrev': 'NYY',\n",
      "           'home_team_id': 147,\n",
      "           'id': 3313,\n",
      "           'name': 'Yankee Stadium'}}\n"
     ]
    }
   ],
   "source": [
    "atmosph = Atmosphere(venue=sing.get_venues(stadium_name='Yankee Stadium')[0],\n",
    "                     home_team = sing.get_teams(name='Yankees')[0],\n",
    "                     temperature = 84)\n",
    "print(atmosph)"
   ]
  },
  {
   "cell_type": "markdown",
   "metadata": {},
   "source": [
    "## Matchup"
   ]
  },
  {
   "cell_type": "markdown",
   "metadata": {},
   "source": [
    "In order to predict the results of a batter-vs-pitcher matchup, you must create a Matchup.   \n",
    "A matchup consists of the following elements:\n",
    "* Batter\n",
    "* Pitcher\n",
    "* Atmosphere\n",
    "* State"
   ]
  },
  {
   "cell_type": "code",
   "execution_count": 11,
   "metadata": {},
   "outputs": [
    {
     "name": "stdout",
     "output_type": "stream",
     "text": [
      "{'atmosphere': {'home_team': {'abbreviation': 'NYY',\n",
      "                              'division': 'American League East',\n",
      "                              'id': 147,\n",
      "                              'league': 'American League',\n",
      "                              'name': 'New York Yankees',\n",
      "                              'team_name': 'Yankees',\n",
      "                              'venue': {'home_team_abbrev': 'NYY',\n",
      "                                        'home_team_id': 147,\n",
      "                                        'id': 3313,\n",
      "                                        'name': 'Yankee Stadium'}},\n",
      "                'temperature': 84,\n",
      "                'venue': {'home_team_abbrev': 'NYY',\n",
      "                          'home_team_id': 147,\n",
      "                          'id': 3313,\n",
      "                          'name': 'Yankee Stadium'}},\n",
      " 'batter': {'active': True,\n",
      "            'bat_side': 'R',\n",
      "            'birth_country': 'USA',\n",
      "            'birth_date': '1991-08-07',\n",
      "            'current_age': 29,\n",
      "            'debut_date': '2011-07-08',\n",
      "            'full_name': 'Mike Trout',\n",
      "            'mlb_id': 545361,\n",
      "            'photo_url': 'https://securea.mlb.com/mlb/images/players/head_shot/545361.jpg',\n",
      "            'pitch_hand': 'R',\n",
      "            'position': 'CF',\n",
      "            'team_abbrev': 'LAA',\n",
      "            'team_id': 108},\n",
      " 'date': None,\n",
      " 'pitcher': {'active': True,\n",
      "             'bat_side': 'R',\n",
      "             'birth_country': 'USA',\n",
      "             'birth_date': '1990-09-08',\n",
      "             'current_age': 30,\n",
      "             'debut_date': '2013-06-11',\n",
      "             'full_name': 'Gerrit Cole',\n",
      "             'mlb_id': 543037,\n",
      "             'photo_url': 'https://securea.mlb.com/mlb/images/players/head_shot/543037.jpg',\n",
      "             'pitch_hand': 'R',\n",
      "             'position': 'P',\n",
      "             'team_abbrev': 'NYY',\n",
      "             'team_id': 147},\n",
      " 'state': {'bat_lineup_order': 1,\n",
      "           'bat_score': 3,\n",
      "           'fld_lineup_order': 1,\n",
      "           'fld_score': 3,\n",
      "           'frame_runs_scored': 0,\n",
      "           'inning': 5,\n",
      "           'on_1b': True,\n",
      "           'on_2b': True,\n",
      "           'on_3b': True,\n",
      "           'outs': 2,\n",
      "           'pitch_number': 85,\n",
      "           'top': False}}\n"
     ]
    }
   ],
   "source": [
    "\n",
    "trout_vs_cole = Matchup(\n",
    "    batter=sing.get_players(name='Mike Trout')[0]\n",
    "    ,pitcher=sing.get_players(name='Gerrit Cole')[0]\n",
    "    ,atmosphere=atmosph\n",
    "    ,state=exciting_state\n",
    ")\n",
    "\n",
    "print(trout_vs_cole)"
   ]
  },
  {
   "cell_type": "markdown",
   "metadata": {},
   "source": [
    "# Generating Predictions"
   ]
  },
  {
   "cell_type": "markdown",
   "metadata": {},
   "source": [
    "## Batter vs. Pitcher"
   ]
  },
  {
   "cell_type": "markdown",
   "metadata": {},
   "source": [
    "The <code>get_pa_sim()</code> function is used to retrieve Singlearity predictions for batter-vs-pitcher matchups.  It takes a list of Matchup objects along with some optional arguments and generates predictions about the results of the matchups.  "
   ]
  },
  {
   "cell_type": "code",
   "execution_count": 12,
   "metadata": {},
   "outputs": [
    {
     "name": "stdout",
     "output_type": "stream",
     "text": [
      "   batter  pitcher batter_name pitcher_name  outs  inning  p_pitch_no  on_1b  \\\n",
      "0  545361   543037  Mike Trout  Gerrit Cole     2       5          85      1   \n",
      "\n",
      "   on_2b  on_3b    bb_exp    ci_exp  double_exp        dp_exp     e_exp  \\\n",
      "0      1      1  0.119704  0.000263    0.039595  1.570246e-31  0.003912   \n",
      "\n",
      "   f_out_exp    fc_exp  fc_o_exp    fo_exp       gdp_exp   hbp_exp    hr_exp  \\\n",
      "0   0.330202  0.000069  0.000013  0.016205  1.140235e-27  0.016392  0.048874   \n",
      "\n",
      "    ibb_exp        sf_exp     sf_dp_exp        sh_exp  single_exp    so_exp  \\\n",
      "0  0.006789  1.058827e-17  1.795157e-26  1.138656e-15     0.08455  0.329727   \n",
      "\n",
      "      so_dp_exp        tp_exp  triple_exp    ba_exp   obp_exp   slg_exp  \\\n",
      "0  2.330866e-32  1.732087e-24    0.003705  0.206248  0.319693  0.432222   \n",
      "\n",
      "    ops_exp  woba_exp  \n",
      "0  0.751915  0.323905  \n",
      "Expected woba is 0.3239053138360158\n"
     ]
    }
   ],
   "source": [
    "results = pd.DataFrame(sing.get_pa_sim([trout_vs_cole]))\n",
    "print(results)\n",
    "\n",
    "print(f\"Expected woba is {results.iloc[0]['woba_exp']}\")"
   ]
  },
  {
   "cell_type": "markdown",
   "metadata": {},
   "source": [
    "It's possible to create predictions for multiple matchups using a single call to <code>get_pa_sim()</code>.  Using multiple matchups in a single call to <code>get_pa_sim()</code> is significantly faster making multiple calls to <code>get_pa_sim()</code>.    You can generate predictions for up to 500 matchups in just a few seconds."
   ]
  },
  {
   "cell_type": "code",
   "execution_count": 13,
   "metadata": {},
   "outputs": [
    {
     "name": "stdout",
     "output_type": "stream",
     "text": [
      "Best pitcher to face Aaron Judge with the game on the line:\n",
      "        pitcher_name Hold Percentage\n",
      "10       Dylan Bundy          71.05%\n",
      "12   Raisel Iglesias          70.62%\n",
      "16   Griffin Canning          69.42%\n",
      "6      Andrew Heaney          69.30%\n",
      "8        Mike Mayers          69.25%\n",
      "17     Shohei Ohtani          68.98%\n",
      "21   Chris Rodriguez          68.03%\n",
      "5         Felix Pena          68.02%\n",
      "4       Steve Cishek          67.57%\n",
      "11        Ty Buttrey          67.47%\n",
      "0      Junior Guerra          67.41%\n",
      "2      Jose Quintana          66.66%\n",
      "1        Tony Watson          66.64%\n",
      "13     Aaron Slegers          66.20%\n",
      "14      Jaime Barria          65.78%\n",
      "3          Alex Cobb          65.59%\n",
      "9          Ben Rowen          64.95%\n",
      "15      Jose Quijada          64.35%\n",
      "20       Kyle Keller          64.07%\n",
      "7       Alex Claudio          64.05%\n",
      "19  Patrick Sandoval          63.53%\n",
      "18       Jose Suarez          61.06%\n"
     ]
    }
   ],
   "source": [
    "#let's look at how we can create multiple matchups \n",
    "candidate_pitchers=sing.get_players(team_name='Angels',on_40=True, position='P')\n",
    "matchups = [Matchup(\n",
    "    batter=sing.get_players(name='Aaron Judge')[0]\n",
    "    ,pitcher=p\n",
    "    ,atmosphere=atmosph\n",
    "    ,state=State(inning=9, top=False, \n",
    "                 bat_score=3, fld_score=3, \n",
    "                 on_1b=True, on_2b=True, on_3b=True,\n",
    "                 outs=2)\n",
    "    ) for p in candidate_pitchers]\n",
    "results = pd.DataFrame(sing.get_pa_sim(matchups)).sort_values(by=['obp_exp'])\n",
    "results['Hold Percentage'] = results['obp_exp'].map(lambda n: '{:.2%}'.format(1-n))\n",
    "\n",
    "print(f\"Best pitcher to face Aaron Judge with the game on the line:\\n{results[['pitcher_name','Hold Percentage']]}\")"
   ]
  },
  {
   "cell_type": "markdown",
   "metadata": {},
   "source": [
    "Here is a different example that shows how different Angels batters are expected to do against different Yankee pitchers with one out in the top of the 3rd inning."
   ]
  },
  {
   "cell_type": "markdown",
   "metadata": {},
   "source": [
    "\n"
   ]
  },
  {
   "cell_type": "code",
   "execution_count": 14,
   "metadata": {},
   "outputs": [
    {
     "name": "stdout",
     "output_type": "stream",
     "text": [
      "Results:\n",
      "         batter_name     pitcher_name    hr_exp   gdp_exp    ba_exp  woba_exp\n",
      "0       Juan Lagares    Brett Gardner  0.020647  0.099889  0.262030  0.311219\n",
      "1      Jose Iglesias    Brett Gardner  0.018946  0.129547  0.310957  0.342030\n",
      "2     David Fletcher    Brett Gardner  0.008851  0.130480  0.317549  0.343243\n",
      "3       Justin Upton    Brett Gardner  0.053012  0.085461  0.261036  0.354709\n",
      "4     Scott Schebler    Brett Gardner  0.029508  0.100559  0.239945  0.306170\n",
      "5        Jared Walsh    Brett Gardner  0.042144  0.091859  0.274785  0.343810\n",
      "6         Mike Trout    Brett Gardner  0.064503  0.068460  0.293076  0.411844\n",
      "7      Albert Pujols    Brett Gardner  0.044695  0.119402  0.308792  0.380580\n",
      "8         Jose Rojas    Brett Gardner  0.036237  0.083080  0.238193  0.306093\n",
      "9    Anthony Bemboom    Brett Gardner  0.014772  0.115047  0.216757  0.253632\n",
      "10    Anthony Rendon    Brett Gardner  0.048527  0.095977  0.303303  0.397916\n",
      "11      Luis Rengifo    Brett Gardner  0.017546  0.097058  0.259204  0.308478\n",
      "12        Max Stassi    Brett Gardner  0.033895  0.113689  0.240339  0.310594\n",
      "13       Kurt Suzuki    Brett Gardner  0.036371  0.130705  0.281187  0.349266\n",
      "14          Jo Adell    Brett Gardner  0.032013  0.083858  0.227861  0.292159\n",
      "15     Jose Iglesias      Gerrit Cole  0.017309  0.099141  0.230317  0.252537\n",
      "16        Jose Rojas      Gerrit Cole  0.023963  0.054338  0.160378  0.218559\n",
      "17        Mike Trout      Gerrit Cole  0.049188  0.053877  0.198561  0.298700\n",
      "18          Jo Adell      Gerrit Cole  0.020079  0.061324  0.135917  0.175040\n",
      "19       Kurt Suzuki      Gerrit Cole  0.027026  0.115566  0.199243  0.242780\n",
      "20       Jared Walsh      Gerrit Cole  0.032745  0.055047  0.190276  0.243492\n",
      "21    David Fletcher      Gerrit Cole  0.012017  0.096765  0.223803  0.242626\n",
      "22      Justin Upton      Gerrit Cole  0.034588  0.073833  0.173020  0.235813\n",
      "23      Luis Rengifo      Gerrit Cole  0.015494  0.063136  0.180232  0.222879\n",
      "24      Juan Lagares      Gerrit Cole  0.015497  0.070796  0.176832  0.212445\n",
      "25     Albert Pujols      Gerrit Cole  0.036299  0.095577  0.215224  0.266239\n",
      "26   Anthony Bemboom      Gerrit Cole  0.013706  0.066953  0.143043  0.177015\n",
      "27    Anthony Rendon      Gerrit Cole  0.033212  0.079925  0.205161  0.265742\n",
      "28    Scott Schebler      Gerrit Cole  0.024800  0.061954  0.165139  0.220381\n",
      "29        Max Stassi      Gerrit Cole  0.022732  0.087316  0.154024  0.202896\n",
      "30    David Fletcher      Aaron Hicks  0.006875  0.152344  0.301696  0.318433\n",
      "31          Jo Adell      Aaron Hicks  0.026558  0.084909  0.208422  0.262708\n",
      "32     Albert Pujols      Aaron Hicks  0.041370  0.138800  0.294573  0.357070\n",
      "33   Anthony Bemboom      Aaron Hicks  0.015188  0.101536  0.213628  0.258722\n",
      "34      Luis Rengifo      Aaron Hicks  0.017546  0.097058  0.259204  0.308478\n",
      "35        Max Stassi      Aaron Hicks  0.030433  0.136642  0.239264  0.300597\n",
      "36      Justin Upton      Aaron Hicks  0.047093  0.104297  0.256139  0.338703\n",
      "37       Jared Walsh      Aaron Hicks  0.048213  0.082136  0.291241  0.371919\n",
      "38    Anthony Rendon      Aaron Hicks  0.042243  0.114105  0.290760  0.372708\n",
      "39    Scott Schebler      Aaron Hicks  0.034257  0.087725  0.245581  0.321482\n",
      "40       Kurt Suzuki      Aaron Hicks  0.031525  0.155724  0.269034  0.328935\n",
      "41     Jose Iglesias      Aaron Hicks  0.014654  0.150216  0.299996  0.322691\n",
      "42        Mike Trout      Aaron Hicks  0.057597  0.083836  0.284007  0.392300\n",
      "43        Jose Rojas      Aaron Hicks  0.039869  0.077965  0.250212  0.331444\n",
      "44      Juan Lagares      Aaron Hicks  0.017094  0.112815  0.253815  0.291991\n",
      "45       Kurt Suzuki  Aroldis Chapman  0.025463  0.094050  0.194479  0.262822\n",
      "46      Luis Rengifo  Aroldis Chapman  0.012442  0.064307  0.163332  0.220302\n",
      "47        Mike Trout  Aroldis Chapman  0.043562  0.042358  0.172457  0.287489\n",
      "48          Jo Adell  Aroldis Chapman  0.018250  0.050942  0.127891  0.193185\n",
      "49      Juan Lagares  Aroldis Chapman  0.014320  0.053814  0.161990  0.228772\n",
      "50     Jose Iglesias  Aroldis Chapman  0.014887  0.081375  0.215555  0.257544\n",
      "51   Anthony Bemboom  Aroldis Chapman  0.009222  0.080851  0.133338  0.177806\n",
      "52        Max Stassi  Aroldis Chapman  0.020156  0.063234  0.131873  0.209696\n",
      "53    Anthony Rendon  Aroldis Chapman  0.031330  0.063501  0.195144  0.288604\n",
      "54    Scott Schebler  Aroldis Chapman  0.016600  0.068516  0.141604  0.207086\n",
      "55       Jared Walsh  Aroldis Chapman  0.023107  0.061412  0.164511  0.225770\n",
      "56    David Fletcher  Aroldis Chapman  0.011064  0.076722  0.214463  0.263832\n",
      "57        Jose Rojas  Aroldis Chapman  0.018245  0.053056  0.132094  0.191214\n",
      "58      Justin Upton  Aroldis Chapman  0.030429  0.054461  0.150691  0.237286\n",
      "59     Albert Pujols  Aroldis Chapman  0.028474  0.074995  0.207268  0.279533\n",
      "60       Kurt Suzuki       Luis Cessa  0.028856  0.140769  0.258370  0.311103\n",
      "61     Albert Pujols       Luis Cessa  0.037052  0.117453  0.271758  0.326394\n",
      "62      Justin Upton       Luis Cessa  0.042258  0.095018  0.235930  0.312755\n",
      "63      Juan Lagares       Luis Cessa  0.013583  0.104133  0.232784  0.266034\n",
      "64    Anthony Rendon       Luis Cessa  0.036335  0.100217  0.270817  0.343339\n",
      "65        Max Stassi       Luis Cessa  0.026801  0.118311  0.217359  0.275389\n",
      "66        Mike Trout       Luis Cessa  0.053863  0.074934  0.265526  0.372793\n",
      "67     Jose Iglesias       Luis Cessa  0.014343  0.132967  0.280211  0.300258\n",
      "68    Scott Schebler       Luis Cessa  0.028700  0.083747  0.232822  0.297938\n",
      "69   Anthony Bemboom       Luis Cessa  0.013554  0.092004  0.201951  0.243619\n",
      "70      Luis Rengifo       Luis Cessa  0.016786  0.086619  0.239196  0.286800\n",
      "71    David Fletcher       Luis Cessa  0.007641  0.131849  0.278600  0.293829\n",
      "72       Jared Walsh       Luis Cessa  0.043223  0.073727  0.259409  0.334349\n",
      "73          Jo Adell       Luis Cessa  0.020400  0.083833  0.192632  0.235221\n",
      "74        Jose Rojas       Luis Cessa  0.031181  0.069893  0.224405  0.296073\n",
      "75    David Fletcher   Domingo German  0.012168  0.104149  0.257637  0.277504\n",
      "76        Mike Trout   Domingo German  0.057657  0.064007  0.245271  0.352819\n",
      "77   Anthony Bemboom   Domingo German  0.017596  0.079452  0.183994  0.225041\n",
      "78    Scott Schebler   Domingo German  0.029881  0.072784  0.210899  0.271525\n",
      "79        Max Stassi   Domingo German  0.029372  0.103036  0.196387  0.252645\n",
      "80          Jo Adell   Domingo German  0.025273  0.070968  0.174589  0.218878\n",
      "81      Juan Lagares   Domingo German  0.017918  0.083536  0.217311  0.253271\n",
      "82    Anthony Rendon   Domingo German  0.039748  0.089773  0.248066  0.316828\n",
      "83     Jose Iglesias   Domingo German  0.017607  0.109052  0.258484  0.280584\n",
      "84        Jose Rojas   Domingo German  0.031371  0.063723  0.203919  0.273628\n",
      "85       Jared Walsh   Domingo German  0.042036  0.070962  0.239404  0.306865\n",
      "86     Albert Pujols   Domingo German  0.042891  0.105205  0.254207  0.311741\n",
      "87      Luis Rengifo   Domingo German  0.020525  0.072198  0.223372  0.273515\n",
      "88      Justin Upton   Domingo German  0.044459  0.078801  0.210218  0.286722\n",
      "89       Kurt Suzuki   Domingo German  0.032114  0.128693  0.236703  0.286577\n",
      "90      Luis Rengifo    Clint Frazier  0.017546  0.097058  0.259204  0.308478\n",
      "91      Juan Lagares    Clint Frazier  0.017094  0.112815  0.253815  0.291991\n",
      "92      Justin Upton    Clint Frazier  0.047093  0.104297  0.256139  0.338703\n",
      "93    David Fletcher    Clint Frazier  0.006875  0.152344  0.301696  0.318433\n",
      "94        Max Stassi    Clint Frazier  0.030433  0.136642  0.239264  0.300597\n",
      "95     Jose Iglesias    Clint Frazier  0.014654  0.150216  0.299996  0.322691\n",
      "96    Scott Schebler    Clint Frazier  0.034257  0.087725  0.245581  0.321482\n",
      "97          Jo Adell    Clint Frazier  0.026558  0.084909  0.208422  0.262708\n",
      "98       Kurt Suzuki    Clint Frazier  0.031525  0.155724  0.269034  0.328935\n",
      "99   Anthony Bemboom    Clint Frazier  0.015188  0.101536  0.213628  0.258722\n",
      "100   Anthony Rendon    Clint Frazier  0.042243  0.114105  0.290760  0.372708\n",
      "101       Jose Rojas    Clint Frazier  0.039869  0.077965  0.250212  0.331444\n",
      "102      Jared Walsh    Clint Frazier  0.048213  0.082136  0.291241  0.371919\n",
      "103       Mike Trout    Clint Frazier  0.057597  0.083836  0.284007  0.392300\n",
      "104    Albert Pujols    Clint Frazier  0.041370  0.138800  0.294573  0.357070\n",
      "105    Albert Pujols       Chad Green  0.041971  0.103356  0.238107  0.294381\n",
      "106   Scott Schebler       Chad Green  0.028523  0.073117  0.189934  0.247426\n",
      "107       Max Stassi       Chad Green  0.028076  0.098816  0.179475  0.233789\n",
      "108   Anthony Rendon       Chad Green  0.039040  0.087813  0.231458  0.298512\n",
      "109  Anthony Bemboom       Chad Green  0.016661  0.074096  0.163567  0.201943\n",
      "110     Luis Rengifo       Chad Green  0.019344  0.068272  0.203475  0.251358\n",
      "111     Juan Lagares       Chad Green  0.016936  0.080035  0.199058  0.234033\n",
      "112   David Fletcher       Chad Green  0.011398  0.104815  0.243735  0.262165\n",
      "113      Jared Walsh       Chad Green  0.039769  0.062882  0.217278  0.279682\n",
      "114     Justin Upton       Chad Green  0.040891  0.078430  0.195360  0.266025\n",
      "115         Jo Adell       Chad Green  0.023067  0.070215  0.159449  0.200250\n",
      "116      Kurt Suzuki       Chad Green  0.031481  0.126622  0.222660  0.271169\n",
      "117       Jose Rojas       Chad Green  0.029022  0.060039  0.186660  0.251606\n",
      "118       Mike Trout       Chad Green  0.053611  0.064427  0.229016  0.329497\n",
      "119    Jose Iglesias       Chad Green  0.017831  0.108531  0.245337  0.268025\n",
      "120     Juan Lagares        Mike Ford  0.016773  0.088506  0.241967  0.282755\n",
      "121      Jared Walsh        Mike Ford  0.047574  0.074931  0.277452  0.359636\n",
      "122    Albert Pujols        Mike Ford  0.040162  0.114951  0.284299  0.344964\n",
      "123      Kurt Suzuki        Mike Ford  0.032627  0.140326  0.270071  0.330115\n",
      "124       Mike Trout        Mike Ford  0.058798  0.076706  0.280020  0.392182\n",
      "125  Anthony Bemboom        Mike Ford  0.015844  0.088696  0.212531  0.260200\n",
      "126   Anthony Rendon        Mike Ford  0.039450  0.103089  0.284496  0.364991\n",
      "127         Jo Adell        Mike Ford  0.023789  0.082491  0.209150  0.261857\n",
      "128    Jose Iglesias        Mike Ford  0.016766  0.124380  0.296989  0.326018\n",
      "129       Max Stassi        Mike Ford  0.030308  0.115500  0.228549  0.292312\n",
      "130   Scott Schebler        Mike Ford  0.032245  0.079919  0.244934  0.317676\n",
      "131   David Fletcher        Mike Ford  0.008168  0.114864  0.289632  0.311470\n",
      "132     Justin Upton        Mike Ford  0.047231  0.095982  0.250866  0.334936\n",
      "133       Jose Rojas        Mike Ford  0.038112  0.069108  0.245420  0.326088\n",
      "134     Luis Rengifo        Mike Ford  0.020203  0.083431  0.249485  0.303060\n",
      "135   David Fletcher     Albert Abreu  0.006983  0.119915  0.292863  0.312374\n",
      "136    Jose Iglesias     Albert Abreu  0.014545  0.130872  0.297563  0.323471\n",
      "137     Juan Lagares     Albert Abreu  0.014436  0.093850  0.242804  0.279868\n",
      "138       Mike Trout     Albert Abreu  0.053969  0.084984  0.284289  0.390005\n",
      "139  Anthony Bemboom     Albert Abreu  0.014186  0.092192  0.215453  0.261166\n",
      "140   Scott Schebler     Albert Abreu  0.031550  0.083126  0.248033  0.320058\n",
      "141      Kurt Suzuki     Albert Abreu  0.030776  0.143028  0.273856  0.331943\n",
      "142    Albert Pujols     Albert Abreu  0.037796  0.120539  0.287944  0.345998\n",
      "143       Max Stassi     Albert Abreu  0.028322  0.118408  0.230928  0.292181\n",
      "144      Jared Walsh     Albert Abreu  0.046139  0.081085  0.281732  0.362066\n",
      "145       Jose Rojas     Albert Abreu  0.035540  0.075113  0.252566  0.330810\n",
      "146         Jo Adell     Albert Abreu  0.019842  0.085927  0.209583  0.257050\n",
      "147     Justin Upton     Albert Abreu  0.043835  0.098506  0.252585  0.333308\n",
      "148     Luis Rengifo     Albert Abreu  0.018166  0.087586  0.251308  0.302699\n",
      "149   Anthony Rendon     Albert Abreu  0.037888  0.108933  0.289131  0.367792\n"
     ]
    }
   ],
   "source": [
    "candidate_batters = [b for b in sing.get_players(team_name='Angels', on_40=True) if b.position!='P']\n",
    "candidate_pitchers = [b for b in sing.get_players(team_name='Yankees', on_40=True)]\n",
    "matchups = ([Matchup(batter = m, pitcher = p, \n",
    "        atmosphere = atmosph, state=State(on_1b=True, outs=1, inning=3, top=True)) for m in candidate_batters[0:15] for p in candidate_pitchers[0:10]])\n",
    "results = pd.DataFrame(sing.get_pa_sim(matchups))\n",
    "print(f\"Results:\\n{results[['batter_name', 'pitcher_name','hr_exp','gdp_exp', 'ba_exp','woba_exp']]}\")"
   ]
  },
  {
   "cell_type": "markdown",
   "metadata": {},
   "source": [
    "## Advanced Batter vs. Pitcher Options"
   ]
  },
  {
   "cell_type": "markdown",
   "metadata": {},
   "source": [
    "### Game Date"
   ]
  },
  {
   "cell_type": "markdown",
   "metadata": {},
   "source": [
    "By default, Singlearity will assume that you are generating predictions for a game taking place today.  For evaluation purposes, you may want to examine the predicitons from a previous date.  To do this, create new matchups using a <code>date</code> argument.  Note that all matchups for a call to <code>get_pa_sim()</code> must use the same date."
   ]
  },
  {
   "cell_type": "code",
   "execution_count": 15,
   "metadata": {},
   "outputs": [
    {
     "name": "stdout",
     "output_type": "stream",
     "text": [
      "   batter  pitcher batter_name pitcher_name  outs  inning  p_pitch_no  on_1b  \\\n",
      "0  545361   543037  Mike Trout  Gerrit Cole     2       5          85      1   \n",
      "\n",
      "   on_2b  on_3b    bb_exp    ci_exp  double_exp        dp_exp     e_exp  \\\n",
      "0      1      1  0.149756  0.000356    0.043311  2.140429e-34  0.004201   \n",
      "\n",
      "   f_out_exp    fc_exp  fc_o_exp    fo_exp       gdp_exp   hbp_exp   hr_exp  \\\n",
      "0   0.352173  0.000044  0.000015  0.021903  1.599213e-30  0.015279  0.04974   \n",
      "\n",
      "    ibb_exp        sf_exp     sf_dp_exp        sh_exp  single_exp    so_exp  \\\n",
      "0  0.007644  2.691723e-19  1.209739e-25  1.450196e-16    0.089422  0.262983   \n",
      "\n",
      "      so_dp_exp        tp_exp  triple_exp    ba_exp   obp_exp   slg_exp  \\\n",
      "0  4.599240e-34  1.079995e-23    0.003173  0.224491  0.358453  0.464982   \n",
      "\n",
      "    ops_exp  woba_exp  \n",
      "0  0.823435  0.348963  \n"
     ]
    }
   ],
   "source": [
    "trout_vs_cole = Matchup(\n",
    "    batter=sing.get_players(name='Mike Trout')[0]\n",
    "    ,pitcher=sing.get_players(name='Gerrit Cole')[0]\n",
    "    ,atmosphere=atmosph\n",
    "    ,state=exciting_state\n",
    "    ,date='2019-08-14'\n",
    ")\n",
    "\n",
    "results = pd.DataFrame(sing.get_pa_sim([trout_vs_cole]))\n",
    "print(results)"
   ]
  },
  {
   "cell_type": "markdown",
   "metadata": {},
   "source": [
    "### Viewing Features"
   ]
  },
  {
   "cell_type": "markdown",
   "metadata": {},
   "source": [
    "You may be interested in viewing and understanding which features(aka inputs) were used by the model to make its predictions.  Use the <code>return_features</code> argument to view the features."
   ]
  },
  {
   "cell_type": "code",
   "execution_count": 16,
   "metadata": {},
   "outputs": [
    {
     "name": "stdout",
     "output_type": "stream",
     "text": [
      "   batter  pitcher batter_name pitcher_name  outs  inning  p_pitch_no  on_1b  \\\n",
      "0  545361   543037  Mike Trout  Gerrit Cole     2       5          85      1   \n",
      "\n",
      "   on_2b  on_3b    bb_exp    ci_exp  double_exp        dp_exp     e_exp  \\\n",
      "0      1      1  0.149756  0.000356    0.043311  2.140429e-34  0.004201   \n",
      "\n",
      "   f_out_exp    fc_exp  fc_o_exp    fo_exp       gdp_exp   hbp_exp   hr_exp  \\\n",
      "0   0.352173  0.000044  0.000015  0.021903  1.599213e-30  0.015279  0.04974   \n",
      "\n",
      "    ibb_exp        sf_exp     sf_dp_exp        sh_exp  single_exp    so_exp  \\\n",
      "0  0.007644  2.691723e-19  1.209739e-25  1.450196e-16    0.089422  0.262983   \n",
      "\n",
      "      so_dp_exp        tp_exp  triple_exp    ba_exp   obp_exp   slg_exp  \\\n",
      "0  4.599240e-34  1.079995e-23    0.003173  0.224491  0.358453  0.464982   \n",
      "\n",
      "    ops_exp  woba_exp  PREDICTIVE_DATA_b_21_pa  \\\n",
      "0  0.823435  0.348963                     86.0   \n",
      "\n",
      "   PREDICTIVE_DATA_b_21_single_per_pa  PREDICTIVE_DATA_b_21_double_per_pa  \\\n",
      "0                            0.069767                            0.069767   \n",
      "\n",
      "   PREDICTIVE_DATA_b_21_hr_per_pa  PREDICTIVE_DATA_b_21_bb_per_pa  \\\n",
      "0                        0.069767                        0.186047   \n",
      "\n",
      "   PREDICTIVE_DATA_b_21_so_per_pa  PREDICTIVE_DATA_b_21_pa-m  \\\n",
      "0                        0.255814                        0.0   \n",
      "\n",
      "   PREDICTIVE_DATA_b_21_park_factors_h  PREDICTIVE_DATA_b_21_woba  \\\n",
      "0                             0.997345                   0.435209   \n",
      "\n",
      "   PREDICTIVE_DATA_b_21_estimated_woba  PREDICTIVE_DATA_b_21_max_ls  \\\n",
      "0                             0.384628                        109.9   \n",
      "\n",
      "   PREDICTIVE_DATA_b_21_avg_ls  PREDICTIVE_DATA_b_1095_pa  \\\n",
      "0                    89.514894                     1813.0   \n",
      "\n",
      "   PREDICTIVE_DATA_b_1095_single_per_pa  PREDICTIVE_DATA_b_1095_double_per_pa  \\\n",
      "0                              0.123001                              0.045229   \n",
      "\n",
      "   PREDICTIVE_DATA_b_1095_hr_per_pa  PREDICTIVE_DATA_b_1095_bb_per_pa  \\\n",
      "0                          0.065085                          0.162162   \n",
      "\n",
      "   PREDICTIVE_DATA_b_1095_so_per_pa  PREDICTIVE_DATA_b_1095_triple_per_pa  \\\n",
      "0                          0.191947                              0.005516   \n",
      "\n",
      "   PREDICTIVE_DATA_b_1095_gdp_per_pa  PREDICTIVE_DATA_b_1095_hbp_per_pa  \\\n",
      "0                            0.01048                           0.020408   \n",
      "\n",
      "   PREDICTIVE_DATA_b_1095_sh_per_pa  PREDICTIVE_DATA_b_1095_sf_per_pa  \\\n",
      "0                               0.0                          0.007722   \n",
      "\n",
      "   PREDICTIVE_DATA_b_1095_ibb_per_pa  PREDICTIVE_DATA_b_1095_pa-m  \\\n",
      "0                           0.030336                          0.0   \n",
      "\n",
      "   PREDICTIVE_DATA_b_1095_park_factors_h  PREDICTIVE_DATA_b_1095_woba  \\\n",
      "0                               0.975489                     0.445892   \n",
      "\n",
      "   PREDICTIVE_DATA_b_1095_estimated_woba  PREDICTIVE_DATA_b_1095_max_ls  \\\n",
      "0                               0.436828                          118.0   \n",
      "\n",
      "   PREDICTIVE_DATA_b_1095_avg_ls  PREDICTIVE_DATA_p_21_pa  \\\n",
      "0                      90.925607                     73.0   \n",
      "\n",
      "   PREDICTIVE_DATA_p_21_single_per_pa  PREDICTIVE_DATA_p_21_double_per_pa  \\\n",
      "0                            0.054795                            0.054795   \n",
      "\n",
      "   PREDICTIVE_DATA_p_21_hr_per_pa  PREDICTIVE_DATA_p_21_bb_per_pa  \\\n",
      "0                        0.041096                        0.068493   \n",
      "\n",
      "   PREDICTIVE_DATA_p_21_so_per_pa  PREDICTIVE_DATA_p_21_pa-m  \\\n",
      "0                        0.287671                        0.0   \n",
      "\n",
      "   PREDICTIVE_DATA_p_21_park_factors_h  PREDICTIVE_DATA_p_21_woba  \\\n",
      "0                             0.984189                   0.247274   \n",
      "\n",
      "   PREDICTIVE_DATA_p_21_estimated_woba  PREDICTIVE_DATA_p_21_max_ls  \\\n",
      "0                             0.232027                        111.8   \n",
      "\n",
      "   PREDICTIVE_DATA_p_21_avg_ls  PREDICTIVE_DATA_p_1095_pa  \\\n",
      "0                    87.210638                     2329.0   \n",
      "\n",
      "   PREDICTIVE_DATA_p_1095_single_per_pa  PREDICTIVE_DATA_p_1095_double_per_pa  \\\n",
      "0                              0.125376                              0.042937   \n",
      "\n",
      "   PREDICTIVE_DATA_p_1095_hr_per_pa  PREDICTIVE_DATA_p_1095_bb_per_pa  \\\n",
      "0                          0.033491                          0.069987   \n",
      "\n",
      "   PREDICTIVE_DATA_p_1095_so_per_pa  PREDICTIVE_DATA_p_1095_triple_per_pa  \\\n",
      "0                          0.302276                              0.003864   \n",
      "\n",
      "   PREDICTIVE_DATA_p_1095_gdp_per_pa  PREDICTIVE_DATA_p_1095_hbp_per_pa  \\\n",
      "0                           0.015457                           0.005582   \n",
      "\n",
      "   PREDICTIVE_DATA_p_1095_sh_per_pa  PREDICTIVE_DATA_p_1095_sf_per_pa  \\\n",
      "0                          0.003435                          0.003006   \n",
      "\n",
      "   PREDICTIVE_DATA_p_1095_ibb_per_pa  PREDICTIVE_DATA_p_1095_pa-m  \\\n",
      "0                           0.001288                          0.0   \n",
      "\n",
      "   PREDICTIVE_DATA_p_1095_park_factors_h  PREDICTIVE_DATA_p_1095_woba  \\\n",
      "0                               0.986485                     0.290675   \n",
      "\n",
      "   PREDICTIVE_DATA_p_1095_estimated_woba  PREDICTIVE_DATA_p_1095_max_ls  \\\n",
      "0                               0.288245                          115.2   \n",
      "\n",
      "   PREDICTIVE_DATA_p_1095_avg_ls  PREDICTIVE_DATA_h2h_pa  \\\n",
      "0                      88.302282                    15.0   \n",
      "\n",
      "   PREDICTIVE_DATA_h2h_single_per_pa  PREDICTIVE_DATA_h2h_double_per_pa  \\\n",
      "0                                0.2                                0.0   \n",
      "\n",
      "   PREDICTIVE_DATA_h2h_hr_per_pa  PREDICTIVE_DATA_h2h_bb_per_pa  \\\n",
      "0                       0.066667                            0.2   \n",
      "\n",
      "   PREDICTIVE_DATA_h2h_so_per_pa  PREDICTIVE_DATA_h2h_pa-m  \\\n",
      "0                       0.266667                       0.0   \n",
      "\n",
      "   PREDICTIVE_DATA_h2h_park_factors_h  PREDICTIVE_DATA_h2h_woba  \\\n",
      "0                            0.932287                    0.4494   \n",
      "\n",
      "   PREDICTIVE_DATA_h2h_estimated_woba  PREDICTIVE_DATA_h2h_max_ls  \\\n",
      "0                              0.4612                       106.8   \n",
      "\n",
      "   PREDICTIVE_DATA_h2h_avg_ls  PREDICTIVE_DATA_b_plat_pa  \\\n",
      "0                     88.3125                     1370.0   \n",
      "\n",
      "   PREDICTIVE_DATA_b_plat_woba  PREDICTIVE_DATA_h2h_platoon  \\\n",
      "0                     0.451987                          0.0   \n",
      "\n",
      "   PREDICTIVE_DATA_p_plat_pa  PREDICTIVE_DATA_p_plat_woba  \\\n",
      "0                     1211.0                     0.292577   \n",
      "\n",
      "   PREDICTIVE_DATA_b_plat_pa-m  PREDICTIVE_DATA_p_plat_pa-m  \\\n",
      "0                          0.0                          0.0   \n",
      "\n",
      "   PREDICTIVE_DATA_pitcher_gb_fb_ratio  PREDICTIVE_DATA_batter_gb_fb_ratio  \\\n",
      "0                             1.978593                            1.225705   \n",
      "\n",
      "   PREDICTIVE_DATA_park_factors_single  PREDICTIVE_DATA_park_factors_double  \\\n",
      "0                             1.011667                               0.8648   \n",
      "\n",
      "   PREDICTIVE_DATA_park_factors_triple  PREDICTIVE_DATA_park_factors_hr  \\\n",
      "0                             0.654767                            1.274   \n",
      "\n",
      "   PREDICTIVE_DATA_temperature  PREDICTIVE_DATA_days  \\\n",
      "0                         84.0                 226.0   \n",
      "\n",
      "   PREDICTIVE_DATA_is_statcast_era  PREDICTIVE_DATA_home  \\\n",
      "0                              1.0                   1.0   \n",
      "\n",
      "   PREDICTIVE_DATA_outs  PREDICTIVE_DATA_on_1b  PREDICTIVE_DATA_on_2b  \\\n",
      "0                   2.0                    1.0                    1.0   \n",
      "\n",
      "   PREDICTIVE_DATA_on_3b  PREDICTIVE_DATA_inning  PREDICTIVE_DATA_net_score  \\\n",
      "0                    1.0                     5.0                        0.0   \n",
      "\n",
      "   PREDICTIVE_DATA_p_pitch_no  PREDICTIVE_DATA_pos_Other  \\\n",
      "0                        85.0                        0.0   \n",
      "\n",
      "   PREDICTIVE_DATA_pos_P  PREDICTIVE_DATA_pos_C  PREDICTIVE_DATA_pos_1B  \\\n",
      "0                    0.0                    0.0                     0.0   \n",
      "\n",
      "   PREDICTIVE_DATA_pos_2B  PREDICTIVE_DATA_pos_3B  PREDICTIVE_DATA_pos_SS  \\\n",
      "0                     0.0                     0.0                     0.0   \n",
      "\n",
      "   PREDICTIVE_DATA_pos_LF  PREDICTIVE_DATA_pos_CF  PREDICTIVE_DATA_pos_RF  \\\n",
      "0                     0.0                     1.0                     0.0   \n",
      "\n",
      "   PREDICTIVE_DATA_pos_OF  PREDICTIVE_DATA_pos_DH  \n",
      "0                     0.0                     0.0  \n"
     ]
    }
   ],
   "source": [
    "results = pd.DataFrame(sing.get_pa_sim([trout_vs_cole], return_features=True))\n",
    "print(results)"
   ]
  },
  {
   "cell_type": "markdown",
   "metadata": {},
   "source": [
    "## Alternative Models"
   ]
  },
  {
   "cell_type": "markdown",
   "metadata": {},
   "source": [
    "The default model, \"ab_outcome\", for predictions generates predictive outcomes for 21 different plate appearance outcomes (e.g. single, strikeout, field out).  It then calculates aggregated stats (e.g. OBP, SLG, wOBA) based on the probabilities of these 21 different outcomes.   "
   ]
  },
  {
   "cell_type": "markdown",
   "metadata": {},
   "source": [
    "### ab_woba_no_state Model"
   ]
  },
  {
   "cell_type": "markdown",
   "metadata": {},
   "source": [
    "Sometimes, it is desirable to generate a batter-vs-pitcher prediction without knowing in advance the situation (i.e. State) in which they will face each other.  One possibility is to use the \"ab_outcome\" model with a default State. However, this prediction will favor the defense as it assumes a fresh pitcher and no runners on base.\n",
    "\n",
    "An alternative approach is to use a different model, called \"ab_woba_no_state\".  This model generates predictions for wOBA that assume \"typical\" game states.   This may more accurately model the batter vs. pitcher matchup over the course of a game or season."
   ]
  },
  {
   "cell_type": "code",
   "execution_count": 17,
   "metadata": {},
   "outputs": [
    {
     "name": "stdout",
     "output_type": "stream",
     "text": [
      "   batter  pitcher batter_name pitcher_name  outs  inning  p_pitch_no  on_1b  \\\n",
      "0  545361   543037  Mike Trout  Gerrit Cole     2       5          85      1   \n",
      "\n",
      "   on_2b  on_3b  woba_exp  \n",
      "0      1      1  0.410044  \n"
     ]
    }
   ],
   "source": [
    "results = pd.DataFrame(sing.get_pa_sim([trout_vs_cole], model_name='ab_woba_no_state'))\n",
    "print(results)"
   ]
  },
  {
   "cell_type": "markdown",
   "metadata": {},
   "source": [
    "# Visualizations"
   ]
  },
  {
   "cell_type": "markdown",
   "metadata": {},
   "source": [
    "Singlearity can be combined with tools such as pyplot and seaborn to generate more visually appealing results.  This example plots the expected wOBA and DP and HR percentages when different Angels batters face different Yankees pitchers with a runner on 1st and no outs."
   ]
  },
  {
   "cell_type": "code",
   "execution_count": 18,
   "metadata": {},
   "outputs": [
    {
     "name": "stdout",
     "output_type": "stream",
     "text": [
      "Evaluating 36 pitchers\n"
     ]
    },
    {
     "data": {
      "text/plain": [
       "<Figure size 2000x2000 with 2 Axes>"
      ]
     },
     "metadata": {},
     "output_type": "display_data"
    },
    {
     "data": {
      "text/plain": [
       "<Figure size 2000x2000 with 2 Axes>"
      ]
     },
     "metadata": {},
     "output_type": "display_data"
    },
    {
     "data": {
      "text/plain": [
       "<Figure size 2000x2000 with 2 Axes>"
      ]
     },
     "metadata": {},
     "output_type": "display_data"
    }
   ],
   "source": [
    "import seaborn as sns\n",
    "import matplotlib.pyplot as plt\n",
    "from pandas.api.types import is_numeric_dtype\n",
    "\n",
    "def plot_results(df, keys):\n",
    "    \n",
    "    if keys is None: \n",
    "        return\n",
    "    for key in keys:\n",
    "        df[key] = pd.Series([float(\"{0:.3f}\".format(float(val * 1))) for val in df[key]], index = df.index)\n",
    "        df_pivot = df.pivot(index='batter_name', columns='pitcher_name', values=key)\n",
    "        plt.figure(figsize=(20, 20))\n",
    "        plt.rcParams.update({'font.size': 15})\n",
    "        sns.heatmap(df_pivot, annot=True, fmt='g')\n",
    "        plt.title(f'Predictions for {key}', wrap=True)\n",
    "        plt.xlabel('Pitcher')\n",
    "        plt.ylabel('Batter')\n",
    "        plt.yticks(rotation=0)\n",
    "        plt.show()\n",
    "    \n",
    "candidate_batters = [b for b in sing.get_players(team_name='Angels', on_40=True) if b.position!='P']\n",
    "candidate_pitchers = [b for b in sing.get_players(team_name='Yankees', on_40=True)]\n",
    "matchups = ([Matchup(batter = m, pitcher = p, \n",
    "        atmosphere = atmosph, state=State(on_1b=True)) for m in candidate_batters[0:15] for p in candidate_pitchers[0:10]])\n",
    "results = pd.DataFrame(sing.get_pa_sim(matchups))    \n",
    "print(f'Evaluating {len(candidate_pitchers)} pitchers')\n",
    "results = pd.DataFrame(sing.get_pa_sim(matchups))\n",
    "plot_results(results, ['woba_exp', 'gdp_exp', 'hr_exp'])\n",
    "    \n",
    "    "
   ]
  },
  {
   "cell_type": "markdown",
   "metadata": {},
   "source": [
    "# Game Simulations Using Singlearity-Game"
   ]
  },
  {
   "cell_type": "markdown",
   "metadata": {},
   "source": [
    "Singlearity-Game is a model which uses the Singlearity plate appearance predictions to create hundreds or thousands of Monte Carlo simulations using the plate appearance outcomes provided by Singlearity. \n",
    "\n",
    "To generate game simulations, you must programmatically create home and away Lineups. The simulation may optionally include a starting State at some intermediate point in the game. This would allow you to simulate, for instance, a tie game in the bottom of the 9th inning game with multiple runners on base, the 5th hitter coming to bat with a tired pitcher on the mound. Currently, Singlearity only supports simulating to the end of the half-inning. With a very short piece of code, you could, for instance, simulate how successful each of ten different relievers would be in holding a lead in the bottom of the 10th inning when facing a given portion of the lineup. It is possible to accurately simulate hundreds or thousands of games in just a few seconds.\n",
    "\n",
    "**Note: Going forward, we believe Markov-chain based simulation is a more accurate way to model half innings and so Singlearity-Game will be replaced by Singlearity-Markov which is available in R [here](https://github.com/singlearity-sports/singlearity-R/tree/master/markov). There is no Python version of Singlearity-Markov at this time.  See [this paper](https://www.singlearity.com/static/assets/sloan-singlearity.pdf) for an extensive discussion and analysis of using Markov chains for predictions.**"
   ]
  },
  {
   "cell_type": "code",
   "execution_count": 19,
   "metadata": {},
   "outputs": [
    {
     "name": "stdout",
     "output_type": "stream",
     "text": [
      "Evaluating 18 pitchers\n",
      "\n",
      "Finding the best closer by simulating 100 innings\n"
     ]
    },
    {
     "ename": "ApiException",
     "evalue": "(504)\nReason: GATEWAY_TIMEOUT\nHTTP response headers: HTTPHeaderDict({'Content-Length': '0', 'Connection': 'keep-alive'})\n",
     "output_type": "error",
     "traceback": [
      "\u001b[0;31m---------------------------------------------------------------------------\u001b[0m",
      "\u001b[0;31mApiException\u001b[0m                              Traceback (most recent call last)",
      "\u001b[0;32m<ipython-input-19-a4ce3759d97e>\u001b[0m in \u001b[0;36m<module>\u001b[0;34m\u001b[0m\n\u001b[1;32m     75\u001b[0m \u001b[0mprint\u001b[0m\u001b[0;34m(\u001b[0m\u001b[0;34mf'Evaluating {len(test_pitcher_list)} pitchers'\u001b[0m\u001b[0;34m)\u001b[0m\u001b[0;34m\u001b[0m\u001b[0;34m\u001b[0m\u001b[0m\n\u001b[1;32m     76\u001b[0m \u001b[0;34m\u001b[0m\u001b[0m\n\u001b[0;32m---> 77\u001b[0;31m \u001b[0mresults\u001b[0m \u001b[0;34m=\u001b[0m \u001b[0mfind_best_reliever\u001b[0m\u001b[0;34m(\u001b[0m\u001b[0mtest_pitcher_list\u001b[0m\u001b[0;34m,\u001b[0m \u001b[0msims\u001b[0m \u001b[0;34m=\u001b[0m \u001b[0;36m100\u001b[0m\u001b[0;34m)\u001b[0m\u001b[0;34m\u001b[0m\u001b[0;34m\u001b[0m\u001b[0m\n\u001b[0m\u001b[1;32m     78\u001b[0m \u001b[0mplot_results\u001b[0m\u001b[0;34m(\u001b[0m\u001b[0mresults\u001b[0m\u001b[0;34m)\u001b[0m\u001b[0;34m\u001b[0m\u001b[0;34m\u001b[0m\u001b[0m\n\u001b[1;32m     79\u001b[0m \u001b[0;34m\u001b[0m\u001b[0m\n",
      "\u001b[0;32m<ipython-input-19-a4ce3759d97e>\u001b[0m in \u001b[0;36mfind_best_reliever\u001b[0;34m(pitchers, sims)\u001b[0m\n\u001b[1;32m     47\u001b[0m \u001b[0;34m\u001b[0m\u001b[0m\n\u001b[1;32m     48\u001b[0m             \u001b[0;31m#run the simulation.  it will return an array of GameSimResults\u001b[0m\u001b[0;34m\u001b[0m\u001b[0;34m\u001b[0m\u001b[0;34m\u001b[0m\u001b[0m\n\u001b[0;32m---> 49\u001b[0;31m             \u001b[0mgame_sim_results\u001b[0m \u001b[0;34m=\u001b[0m \u001b[0msing\u001b[0m\u001b[0;34m.\u001b[0m\u001b[0mget_game_sim\u001b[0m\u001b[0;34m(\u001b[0m\u001b[0;34m{\u001b[0m\u001b[0;34m'game'\u001b[0m \u001b[0;34m:\u001b[0m \u001b[0mgame\u001b[0m\u001b[0;34m,\u001b[0m \u001b[0;34m'start_state'\u001b[0m \u001b[0;34m:\u001b[0m  \u001b[0mst\u001b[0m\u001b[0;34m}\u001b[0m\u001b[0;34m,\u001b[0m  \u001b[0mnum_sims\u001b[0m \u001b[0;34m=\u001b[0m \u001b[0msims\u001b[0m\u001b[0;34m)\u001b[0m\u001b[0;34m\u001b[0m\u001b[0;34m\u001b[0m\u001b[0m\n\u001b[0m\u001b[1;32m     50\u001b[0m \u001b[0;34m\u001b[0m\u001b[0m\n\u001b[1;32m     51\u001b[0m             \u001b[0msaves\u001b[0m \u001b[0;34m=\u001b[0m \u001b[0mlen\u001b[0m\u001b[0;34m(\u001b[0m\u001b[0;34m[\u001b[0m\u001b[0;36m1\u001b[0m \u001b[0;32mfor\u001b[0m \u001b[0mr\u001b[0m \u001b[0;32min\u001b[0m \u001b[0mgame_sim_results\u001b[0m  \u001b[0;32mif\u001b[0m \u001b[0;34m(\u001b[0m\u001b[0mr\u001b[0m\u001b[0;34m.\u001b[0m\u001b[0maway_score\u001b[0m \u001b[0;34m>\u001b[0m \u001b[0mr\u001b[0m\u001b[0;34m.\u001b[0m\u001b[0mhome_score\u001b[0m\u001b[0;34m)\u001b[0m\u001b[0;34m]\u001b[0m\u001b[0;34m)\u001b[0m\u001b[0;34m\u001b[0m\u001b[0;34m\u001b[0m\u001b[0m\n",
      "\u001b[0;32m~/anaconda3/lib/python3.7/site-packages/singlearity/api/ap_is_api.py\u001b[0m in \u001b[0;36mget_game_sim\u001b[0;34m(self, body_get_game_sim_game_sim_post, **kwargs)\u001b[0m\n\u001b[1;32m     60\u001b[0m         \"\"\"\n\u001b[1;32m     61\u001b[0m         \u001b[0mkwargs\u001b[0m\u001b[0;34m[\u001b[0m\u001b[0;34m'_return_http_data_only'\u001b[0m\u001b[0;34m]\u001b[0m \u001b[0;34m=\u001b[0m \u001b[0;32mTrue\u001b[0m\u001b[0;34m\u001b[0m\u001b[0;34m\u001b[0m\u001b[0m\n\u001b[0;32m---> 62\u001b[0;31m         \u001b[0;32mreturn\u001b[0m \u001b[0mself\u001b[0m\u001b[0;34m.\u001b[0m\u001b[0mget_game_sim_with_http_info\u001b[0m\u001b[0;34m(\u001b[0m\u001b[0mbody_get_game_sim_game_sim_post\u001b[0m\u001b[0;34m,\u001b[0m \u001b[0;34m**\u001b[0m\u001b[0mkwargs\u001b[0m\u001b[0;34m)\u001b[0m  \u001b[0;31m# noqa: E501\u001b[0m\u001b[0;34m\u001b[0m\u001b[0;34m\u001b[0m\u001b[0m\n\u001b[0m\u001b[1;32m     63\u001b[0m \u001b[0;34m\u001b[0m\u001b[0m\n\u001b[1;32m     64\u001b[0m     \u001b[0;32mdef\u001b[0m \u001b[0mget_game_sim_with_http_info\u001b[0m\u001b[0;34m(\u001b[0m\u001b[0mself\u001b[0m\u001b[0;34m,\u001b[0m \u001b[0mbody_get_game_sim_game_sim_post\u001b[0m\u001b[0;34m,\u001b[0m \u001b[0;34m**\u001b[0m\u001b[0mkwargs\u001b[0m\u001b[0;34m)\u001b[0m\u001b[0;34m:\u001b[0m  \u001b[0;31m# noqa: E501\u001b[0m\u001b[0;34m\u001b[0m\u001b[0;34m\u001b[0m\u001b[0m\n",
      "\u001b[0;32m~/anaconda3/lib/python3.7/site-packages/singlearity/api/ap_is_api.py\u001b[0m in \u001b[0;36mget_game_sim_with_http_info\u001b[0;34m(self, body_get_game_sim_game_sim_post, **kwargs)\u001b[0m\n\u001b[1;32m    153\u001b[0m             \u001b[0m_preload_content\u001b[0m\u001b[0;34m=\u001b[0m\u001b[0mlocal_var_params\u001b[0m\u001b[0;34m.\u001b[0m\u001b[0mget\u001b[0m\u001b[0;34m(\u001b[0m\u001b[0;34m'_preload_content'\u001b[0m\u001b[0;34m,\u001b[0m \u001b[0;32mTrue\u001b[0m\u001b[0;34m)\u001b[0m\u001b[0;34m,\u001b[0m\u001b[0;34m\u001b[0m\u001b[0;34m\u001b[0m\u001b[0m\n\u001b[1;32m    154\u001b[0m             \u001b[0m_request_timeout\u001b[0m\u001b[0;34m=\u001b[0m\u001b[0mlocal_var_params\u001b[0m\u001b[0;34m.\u001b[0m\u001b[0mget\u001b[0m\u001b[0;34m(\u001b[0m\u001b[0;34m'_request_timeout'\u001b[0m\u001b[0;34m)\u001b[0m\u001b[0;34m,\u001b[0m\u001b[0;34m\u001b[0m\u001b[0;34m\u001b[0m\u001b[0m\n\u001b[0;32m--> 155\u001b[0;31m             collection_formats=collection_formats)\n\u001b[0m\u001b[1;32m    156\u001b[0m \u001b[0;34m\u001b[0m\u001b[0m\n\u001b[1;32m    157\u001b[0m     \u001b[0;32mdef\u001b[0m \u001b[0mget_pa_sim\u001b[0m\u001b[0;34m(\u001b[0m\u001b[0mself\u001b[0m\u001b[0;34m,\u001b[0m \u001b[0mmatchup\u001b[0m\u001b[0;34m,\u001b[0m \u001b[0;34m**\u001b[0m\u001b[0mkwargs\u001b[0m\u001b[0;34m)\u001b[0m\u001b[0;34m:\u001b[0m  \u001b[0;31m# noqa: E501\u001b[0m\u001b[0;34m\u001b[0m\u001b[0;34m\u001b[0m\u001b[0m\n",
      "\u001b[0;32m~/anaconda3/lib/python3.7/site-packages/singlearity/api_client.py\u001b[0m in \u001b[0;36mcall_api\u001b[0;34m(self, resource_path, method, path_params, query_params, header_params, body, post_params, files, response_type, auth_settings, async_req, _return_http_data_only, collection_formats, _preload_content, _request_timeout, _host)\u001b[0m\n\u001b[1;32m    351\u001b[0m                                    \u001b[0mresponse_type\u001b[0m\u001b[0;34m,\u001b[0m \u001b[0mauth_settings\u001b[0m\u001b[0;34m,\u001b[0m\u001b[0;34m\u001b[0m\u001b[0;34m\u001b[0m\u001b[0m\n\u001b[1;32m    352\u001b[0m                                    \u001b[0m_return_http_data_only\u001b[0m\u001b[0;34m,\u001b[0m \u001b[0mcollection_formats\u001b[0m\u001b[0;34m,\u001b[0m\u001b[0;34m\u001b[0m\u001b[0;34m\u001b[0m\u001b[0m\n\u001b[0;32m--> 353\u001b[0;31m                                    _preload_content, _request_timeout, _host)\n\u001b[0m\u001b[1;32m    354\u001b[0m \u001b[0;34m\u001b[0m\u001b[0m\n\u001b[1;32m    355\u001b[0m         return self.pool.apply_async(self.__call_api, (resource_path,\n",
      "\u001b[0;32m~/anaconda3/lib/python3.7/site-packages/singlearity/api_client.py\u001b[0m in \u001b[0;36m__call_api\u001b[0;34m(self, resource_path, method, path_params, query_params, header_params, body, post_params, files, response_type, auth_settings, _return_http_data_only, collection_formats, _preload_content, _request_timeout, _host)\u001b[0m\n\u001b[1;32m    182\u001b[0m             \u001b[0mpost_params\u001b[0m\u001b[0;34m=\u001b[0m\u001b[0mpost_params\u001b[0m\u001b[0;34m,\u001b[0m \u001b[0mbody\u001b[0m\u001b[0;34m=\u001b[0m\u001b[0mbody\u001b[0m\u001b[0;34m,\u001b[0m\u001b[0;34m\u001b[0m\u001b[0;34m\u001b[0m\u001b[0m\n\u001b[1;32m    183\u001b[0m             \u001b[0m_preload_content\u001b[0m\u001b[0;34m=\u001b[0m\u001b[0m_preload_content\u001b[0m\u001b[0;34m,\u001b[0m\u001b[0;34m\u001b[0m\u001b[0;34m\u001b[0m\u001b[0m\n\u001b[0;32m--> 184\u001b[0;31m             _request_timeout=_request_timeout)\n\u001b[0m\u001b[1;32m    185\u001b[0m \u001b[0;34m\u001b[0m\u001b[0m\n\u001b[1;32m    186\u001b[0m         \u001b[0mself\u001b[0m\u001b[0;34m.\u001b[0m\u001b[0mlast_response\u001b[0m \u001b[0;34m=\u001b[0m \u001b[0mresponse_data\u001b[0m\u001b[0;34m\u001b[0m\u001b[0;34m\u001b[0m\u001b[0m\n",
      "\u001b[0;32m~/anaconda3/lib/python3.7/site-packages/singlearity/api_client.py\u001b[0m in \u001b[0;36mrequest\u001b[0;34m(self, method, url, query_params, headers, post_params, body, _preload_content, _request_timeout)\u001b[0m\n\u001b[1;32m    395\u001b[0m                                          \u001b[0m_preload_content\u001b[0m\u001b[0;34m=\u001b[0m\u001b[0m_preload_content\u001b[0m\u001b[0;34m,\u001b[0m\u001b[0;34m\u001b[0m\u001b[0;34m\u001b[0m\u001b[0m\n\u001b[1;32m    396\u001b[0m                                          \u001b[0m_request_timeout\u001b[0m\u001b[0;34m=\u001b[0m\u001b[0m_request_timeout\u001b[0m\u001b[0;34m,\u001b[0m\u001b[0;34m\u001b[0m\u001b[0;34m\u001b[0m\u001b[0m\n\u001b[0;32m--> 397\u001b[0;31m                                          body=body)\n\u001b[0m\u001b[1;32m    398\u001b[0m         \u001b[0;32melif\u001b[0m \u001b[0mmethod\u001b[0m \u001b[0;34m==\u001b[0m \u001b[0;34m\"PUT\"\u001b[0m\u001b[0;34m:\u001b[0m\u001b[0;34m\u001b[0m\u001b[0;34m\u001b[0m\u001b[0m\n\u001b[1;32m    399\u001b[0m             return self.rest_client.PUT(url,\n",
      "\u001b[0;32m~/anaconda3/lib/python3.7/site-packages/singlearity/rest.py\u001b[0m in \u001b[0;36mPOST\u001b[0;34m(self, url, headers, query_params, post_params, body, _preload_content, _request_timeout)\u001b[0m\n\u001b[1;32m    274\u001b[0m                             \u001b[0m_preload_content\u001b[0m\u001b[0;34m=\u001b[0m\u001b[0m_preload_content\u001b[0m\u001b[0;34m,\u001b[0m\u001b[0;34m\u001b[0m\u001b[0;34m\u001b[0m\u001b[0m\n\u001b[1;32m    275\u001b[0m                             \u001b[0m_request_timeout\u001b[0m\u001b[0;34m=\u001b[0m\u001b[0m_request_timeout\u001b[0m\u001b[0;34m,\u001b[0m\u001b[0;34m\u001b[0m\u001b[0;34m\u001b[0m\u001b[0m\n\u001b[0;32m--> 276\u001b[0;31m                             body=body)\n\u001b[0m\u001b[1;32m    277\u001b[0m \u001b[0;34m\u001b[0m\u001b[0m\n\u001b[1;32m    278\u001b[0m     def PUT(self, url, headers=None, query_params=None, post_params=None,\n",
      "\u001b[0;32m~/anaconda3/lib/python3.7/site-packages/singlearity/rest.py\u001b[0m in \u001b[0;36mrequest\u001b[0;34m(self, method, url, query_params, headers, body, post_params, _preload_content, _request_timeout)\u001b[0m\n\u001b[1;32m    227\u001b[0m \u001b[0;34m\u001b[0m\u001b[0m\n\u001b[1;32m    228\u001b[0m         \u001b[0;32mif\u001b[0m \u001b[0;32mnot\u001b[0m \u001b[0;36m200\u001b[0m \u001b[0;34m<=\u001b[0m \u001b[0mr\u001b[0m\u001b[0;34m.\u001b[0m\u001b[0mstatus\u001b[0m \u001b[0;34m<=\u001b[0m \u001b[0;36m299\u001b[0m\u001b[0;34m:\u001b[0m\u001b[0;34m\u001b[0m\u001b[0;34m\u001b[0m\u001b[0m\n\u001b[0;32m--> 229\u001b[0;31m             \u001b[0;32mraise\u001b[0m \u001b[0mApiException\u001b[0m\u001b[0;34m(\u001b[0m\u001b[0mhttp_resp\u001b[0m\u001b[0;34m=\u001b[0m\u001b[0mr\u001b[0m\u001b[0;34m)\u001b[0m\u001b[0;34m\u001b[0m\u001b[0;34m\u001b[0m\u001b[0m\n\u001b[0m\u001b[1;32m    230\u001b[0m \u001b[0;34m\u001b[0m\u001b[0m\n\u001b[1;32m    231\u001b[0m         \u001b[0;32mreturn\u001b[0m \u001b[0mr\u001b[0m\u001b[0;34m\u001b[0m\u001b[0;34m\u001b[0m\u001b[0m\n",
      "\u001b[0;31mApiException\u001b[0m: (504)\nReason: GATEWAY_TIMEOUT\nHTTP response headers: HTTPHeaderDict({'Content-Length': '0', 'Connection': 'keep-alive'})\n"
     ]
    }
   ],
   "source": [
    "def find_best_reliever(pitchers, sims):\n",
    "    print(f'\\nFinding the best closer by simulating {sims} innings')\n",
    "    home_lineup_positions = [\n",
    "        LineupPos(player = sing.get_players(name = 'Austin Hays')[0], position = 'CF'),\n",
    "        LineupPos(player = sing.get_players(name = 'Anthony Santander')[0], position = 'RF'),\n",
    "        LineupPos(player = sing.get_players(name = 'Jose Iglesias')[0], position = 'SS'),\n",
    "        LineupPos(player = sing.get_players(name = 'Rio Ruiz')[0], position = '3B'),\n",
    "        LineupPos(player = sing.get_players(name = 'Hanser Alberto')[0], position = '2B'),\n",
    "        LineupPos(player = sing.get_players(name = 'Renato Nunez')[0], position = '1B'),\n",
    "        LineupPos(player = sing.get_players(name = 'Dwight Smith')[0], position = 'DH'),\n",
    "        LineupPos(player = sing.get_players(name = 'Pedro Severino')[0], position = 'C'),\n",
    "        LineupPos(player = sing.get_players(name = 'DJ Stewart')[0], position = 'CF'),\n",
    "        LineupPos(player = sing.get_players(name = 'Tommy Milone')[0], position = 'P'),\n",
    "    ]\n",
    "\n",
    "    visit_lineup_positions = [\n",
    "        LineupPos(player = sing.get_players(name = 'Yandy Diaz')[0], position = '3B'),\n",
    "        LineupPos(player = sing.get_players(name = 'Jose Martinez')[0], position = '1B'),\n",
    "        LineupPos(player = sing.get_players(name = 'Yoshi Tsutsugo')[0], position = 'DH'),\n",
    "        LineupPos(player = sing.get_players(name = 'Hunter Renfroe')[0], position = 'RF'),\n",
    "        LineupPos(player = sing.get_players(name = 'Manuel Margot')[0], position = 'LF'),\n",
    "        LineupPos(player = sing.get_players(name = 'Mike Brosseau')[0], position = '3B'),\n",
    "        LineupPos(player = sing.get_players(name = 'Willy Adames')[0], position = 'SS'),\n",
    "        LineupPos(player = sing.get_players(name = 'Kevin Kiermaier')[0], position = 'CF'),\n",
    "        LineupPos(player = sing.get_players(name = 'Mike Zunino')[0], position = 'C'),\n",
    "        LineupPos(player = sing.get_players(name = 'Tyler Glasnow')[0], position = 'P'),\n",
    "    ]\n",
    "\n",
    "    B = pd.Index([f'{batter.player.full_name} ({batter.player.bat_side})' for batter in home_lineup_positions], name=\"rows\")[0:9]\n",
    "    P = pd.Index([f'{pitcher.full_name} ({pitcher.pitch_hand})' for pitcher in test_pitcher_list] , name=\"columns\")\n",
    "    home_lineup = Lineup(lineup = home_lineup_positions)\n",
    "    df = pd.DataFrame('', index=B, columns=P)\n",
    "    location = sing.get_venues(stadium_name='Oriole Park')[0]\n",
    "    home_team = sing.get_teams(name = \"Orioles\")[0]\n",
    "    #assume, visit team has one run lead in the bottom of the 10th inning.   Based on 2020 rules, home team starts with a runner on 2B and no one out\n",
    "    bat_score_start = 2\n",
    "    fld_score_start = 3 \n",
    "    for bat_lineup_start in range(1, 10):  #loop through batters.    Skip last batter (pitcher) because of DH\n",
    "        st = State(inning=10, top=False, on_1b=False, on_2b=True, on_3b=False, outs=0, bat_score=bat_score_start,\n",
    "                   fld_score=fld_score_start, bat_lineup_order=bat_lineup_start)\n",
    "        pitcher_count = 0\n",
    "        for pitcher in pitchers:  #loop through pitchers\n",
    "            pitcher_count = pitcher_count + 1   #track which pitcher we are using\n",
    "            visit_lineup_positions[9] = LineupPos(player = sing.get_players(id = pitcher.mlb_id)[0], position = 'P')\n",
    "            visit_lineup = Lineup(lineup = visit_lineup_positions)\n",
    "            game = Game(visit_lineup = visit_lineup, home_lineup = home_lineup, atmosphere = Atmosphere(venue = location, home_team = home_team))\n",
    "\n",
    "            #run the simulation.  it will return an array of GameSimResults\n",
    "            game_sim_results = sing.get_game_sim({'game' : game, 'start_state' :  st},  num_sims = sims)\n",
    "\n",
    "            saves = len([1 for r in game_sim_results  if (r.away_score > r.home_score)])\n",
    "            losses = len([1 for r in game_sim_results  if (r.away_score < r.home_score)])\n",
    "            ties = len([1 for r in game_sim_results  if (r.away_score == r.home_score)])\n",
    "            print('Pitcher: {:<20s} Lineup Start: {} Save Percentage: {:.1f}% Loss Percentage: {:.1f}%  Tie Percentage: {:.1f}%'.format(pitcher.full_name, bat_lineup_start, 100*saves/sims\n",
    "                ,100*losses/sims\n",
    "                ,100*ties/sims))\n",
    "            df.loc[B[bat_lineup_start - 1]][P[pitcher_count - 1]] = round(saves/sims, 3)\n",
    "    for col in df.columns:\n",
    "        df[col] = df[col].astype(float)\n",
    "    return df\n",
    "\n",
    "\n",
    "def plot_results(df):\n",
    "    plt.figure(figsize=(40, 50))\n",
    "    sns.heatmap(df, annot=True, fmt='g')\n",
    "    plt.title('Pitcher Save Probability\\n(Assumes an extra inning game with one run lead in the bottom of the 10th,\\nno outs, man on 2nd, pitcher pitch_count of 0 )', wrap=True)\n",
    "    plt.xlabel('Pitcher')\n",
    "    plt.ylabel('Inning Leadoff Batter')\n",
    "    plt.yticks(rotation=0)\n",
    "    plt.show()\n",
    "\n",
    "\n",
    "    \n",
    "test_pitcher_list = sing.get_players(team_name = 'Yankees', position = 'P', on_40 = True)\n",
    "print(f'Evaluating {len(test_pitcher_list)} pitchers')\n",
    "\n",
    "results = find_best_reliever(test_pitcher_list, sims = 100)\n",
    "plot_results(results)\n",
    "\n",
    "\n",
    "    "
   ]
  }
 ],
 "metadata": {
  "kernelspec": {
   "display_name": "Python 3",
   "language": "python",
   "name": "python3"
  },
  "language_info": {
   "codemirror_mode": {
    "name": "ipython",
    "version": 3
   },
   "file_extension": ".py",
   "mimetype": "text/x-python",
   "name": "python",
   "nbconvert_exporter": "python",
   "pygments_lexer": "ipython3",
   "version": "3.7.3"
  }
 },
 "nbformat": 4,
 "nbformat_minor": 2
}
